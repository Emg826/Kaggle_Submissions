{
 "cells": [
  {
   "cell_type": "markdown",
   "metadata": {},
   "source": [
    "This notebook trys to predict the sale price of houses in Ames, Iowa, given 70+ explanatory variables. This is another kaggle data set/competition (found here: https://www.kaggle.com/c/house-prices-advanced-regression-techniques) with the goal of building a model with the lowest root mean squared logarithmic error. A root mean squared log error of 0 is the best possible, so minimizing it the goal. To accomplish this goal, a lot of feature engineering will be done so as to give the model more data with which to work. "
   ]
  },
  {
   "cell_type": "code",
   "execution_count": 1,
   "metadata": {},
   "outputs": [],
   "source": [
    "import pandas\n",
    "import math\n",
    "import numpy as np"
   ]
  },
  {
   "cell_type": "code",
   "execution_count": 2,
   "metadata": {},
   "outputs": [],
   "source": [
    "df_train = pandas.read_csv('train.csv')\n",
    "df_test = pandas.read_csv('test.csv')\n",
    "\n",
    "train_csv_ids = df_train['Id'].values.ravel()\n",
    "test_csv_ids = df_test['Id'].values.ravel()\n",
    "\n",
    "df = pandas.concat( [df_train, df_test], sort=True ).reset_index(drop=True)"
   ]
  },
  {
   "cell_type": "code",
   "execution_count": 3,
   "metadata": {},
   "outputs": [
    {
     "name": "stdout",
     "output_type": "stream",
     "text": [
      "Num rows: 2919\n",
      "Num cols: 81\n"
     ]
    }
   ],
   "source": [
    "print('Num rows: {}'.format(df.shape[0]))\n",
    "print('Num cols: {}'.format(df.shape[1]))"
   ]
  },
  {
   "cell_type": "code",
   "execution_count": 4,
   "metadata": {},
   "outputs": [
    {
     "name": "stdout",
     "output_type": "stream",
     "text": [
      "Column \t Number of Empty Entries \t First 3 Entries\n",
      "1stFlrSF \t\t 0 \t\t [ 856 1262  920]\n",
      "2ndFlrSF \t\t 0 \t\t [854   0 866]\n",
      "3SsnPorch \t\t 0 \t\t [0 0 0]\n",
      "Alley \t\t 2721 \t\t [nan nan nan]\n",
      "BedroomAbvGr \t\t 0 \t\t [3 3 3]\n",
      "BldgType \t\t 0 \t\t ['1Fam' '1Fam' '1Fam']\n",
      "BsmtCond \t\t 82 \t\t ['TA' 'TA' 'TA']\n",
      "BsmtExposure \t\t 82 \t\t ['No' 'Gd' 'Mn']\n",
      "BsmtFinSF1 \t\t 1 \t\t [706. 978. 486.]\n",
      "BsmtFinSF2 \t\t 1 \t\t [0. 0. 0.]\n",
      "BsmtFinType1 \t\t 79 \t\t ['GLQ' 'ALQ' 'GLQ']\n",
      "BsmtFinType2 \t\t 80 \t\t ['Unf' 'Unf' 'Unf']\n",
      "BsmtFullBath \t\t 2 \t\t [1. 0. 1.]\n",
      "BsmtHalfBath \t\t 2 \t\t [0. 1. 0.]\n",
      "BsmtQual \t\t 81 \t\t ['Gd' 'Gd' 'Gd']\n",
      "BsmtUnfSF \t\t 1 \t\t [150. 284. 434.]\n",
      "CentralAir \t\t 0 \t\t ['Y' 'Y' 'Y']\n",
      "Condition1 \t\t 0 \t\t ['Norm' 'Feedr' 'Norm']\n",
      "Condition2 \t\t 0 \t\t ['Norm' 'Norm' 'Norm']\n",
      "Electrical \t\t 1 \t\t ['SBrkr' 'SBrkr' 'SBrkr']\n",
      "EnclosedPorch \t\t 0 \t\t [0 0 0]\n",
      "ExterCond \t\t 0 \t\t ['TA' 'TA' 'TA']\n",
      "ExterQual \t\t 0 \t\t ['Gd' 'TA' 'Gd']\n",
      "Exterior1st \t\t 1 \t\t ['VinylSd' 'MetalSd' 'VinylSd']\n",
      "Exterior2nd \t\t 1 \t\t ['VinylSd' 'MetalSd' 'VinylSd']\n",
      "Fence \t\t 2348 \t\t [nan nan nan]\n",
      "FireplaceQu \t\t 1420 \t\t [nan 'TA' 'TA']\n",
      "Fireplaces \t\t 0 \t\t [0 1 1]\n",
      "Foundation \t\t 0 \t\t ['PConc' 'CBlock' 'PConc']\n",
      "FullBath \t\t 0 \t\t [2 2 2]\n",
      "Functional \t\t 2 \t\t ['Typ' 'Typ' 'Typ']\n",
      "GarageArea \t\t 1 \t\t [548. 460. 608.]\n",
      "GarageCars \t\t 1 \t\t [2. 2. 2.]\n",
      "GarageCond \t\t 159 \t\t ['TA' 'TA' 'TA']\n",
      "GarageFinish \t\t 159 \t\t ['RFn' 'RFn' 'RFn']\n",
      "GarageQual \t\t 159 \t\t ['TA' 'TA' 'TA']\n",
      "GarageType \t\t 157 \t\t ['Attchd' 'Attchd' 'Attchd']\n",
      "GarageYrBlt \t\t 159 \t\t [2003. 1976. 2001.]\n",
      "GrLivArea \t\t 0 \t\t [1710 1262 1786]\n",
      "HalfBath \t\t 0 \t\t [1 0 1]\n",
      "Heating \t\t 0 \t\t ['GasA' 'GasA' 'GasA']\n",
      "HeatingQC \t\t 0 \t\t ['Ex' 'Ex' 'Ex']\n",
      "HouseStyle \t\t 0 \t\t ['2Story' '1Story' '2Story']\n",
      "Id \t\t 0 \t\t [1 2 3]\n",
      "KitchenAbvGr \t\t 0 \t\t [1 1 1]\n",
      "KitchenQual \t\t 1 \t\t ['Gd' 'TA' 'Gd']\n",
      "LandContour \t\t 0 \t\t ['Lvl' 'Lvl' 'Lvl']\n",
      "LandSlope \t\t 0 \t\t ['Gtl' 'Gtl' 'Gtl']\n",
      "LotArea \t\t 0 \t\t [ 8450  9600 11250]\n",
      "LotConfig \t\t 0 \t\t ['Inside' 'FR2' 'Inside']\n",
      "LotFrontage \t\t 486 \t\t [65. 80. 68.]\n",
      "LotShape \t\t 0 \t\t ['Reg' 'Reg' 'IR1']\n",
      "LowQualFinSF \t\t 0 \t\t [0 0 0]\n",
      "MSSubClass \t\t 0 \t\t [60 20 60]\n",
      "MSZoning \t\t 4 \t\t ['RL' 'RL' 'RL']\n",
      "MasVnrArea \t\t 23 \t\t [196.   0. 162.]\n",
      "MasVnrType \t\t 24 \t\t ['BrkFace' 'None' 'BrkFace']\n",
      "MiscFeature \t\t 2814 \t\t [nan nan nan]\n",
      "MiscVal \t\t 0 \t\t [0 0 0]\n",
      "MoSold \t\t 0 \t\t [2 5 9]\n",
      "Neighborhood \t\t 0 \t\t ['CollgCr' 'Veenker' 'CollgCr']\n",
      "OpenPorchSF \t\t 0 \t\t [61  0 42]\n",
      "OverallCond \t\t 0 \t\t [5 8 5]\n",
      "OverallQual \t\t 0 \t\t [7 6 7]\n",
      "PavedDrive \t\t 0 \t\t ['Y' 'Y' 'Y']\n",
      "PoolArea \t\t 0 \t\t [0 0 0]\n",
      "PoolQC \t\t 2909 \t\t [nan nan nan]\n",
      "RoofMatl \t\t 0 \t\t ['CompShg' 'CompShg' 'CompShg']\n",
      "RoofStyle \t\t 0 \t\t ['Gable' 'Gable' 'Gable']\n",
      "SaleCondition \t\t 0 \t\t ['Normal' 'Normal' 'Normal']\n",
      "SalePrice \t\t 1459 \t\t [208500. 181500. 223500.]\n",
      "SaleType \t\t 1 \t\t ['WD' 'WD' 'WD']\n",
      "ScreenPorch \t\t 0 \t\t [0 0 0]\n",
      "Street \t\t 0 \t\t ['Pave' 'Pave' 'Pave']\n",
      "TotRmsAbvGrd \t\t 0 \t\t [8 6 6]\n",
      "TotalBsmtSF \t\t 1 \t\t [ 856. 1262.  920.]\n",
      "Utilities \t\t 2 \t\t ['AllPub' 'AllPub' 'AllPub']\n",
      "WoodDeckSF \t\t 0 \t\t [  0 298   0]\n",
      "YearBuilt \t\t 0 \t\t [2003 1976 2001]\n",
      "YearRemodAdd \t\t 0 \t\t [2003 1976 2002]\n",
      "YrSold \t\t 0 \t\t [2008 2007 2008]\n"
     ]
    }
   ],
   "source": [
    "print('Column \\t Number of Empty Entries \\t First 3 Entries')\n",
    "for col in df.columns:\n",
    "    print('{} \\t\\t {} \\t\\t {}'.format(col, df[col].isnull().sum(), df[col].values[0:3]))"
   ]
  },
  {
   "cell_type": "markdown",
   "metadata": {},
   "source": [
    "So the first feature engineering plan I made from this and the data dictionary was hardly more helpful than just outright dummy encoding everything (rmsle of about 0.15 on Kaggle). This second plan will hopefully improve upon the first. What I neglected to realize was that some of the missing entries actually tell a story of their own; they can be important. Additionally, I didn't do enough feature extraction from the columns, so I'll try doing more of that as well. Here's the plan:\n",
    "\n",
    "\n",
    "### 1stFlrSF \n",
    "+ leave as is\n",
    "\n",
    "### 2ndFlrSF \n",
    "+ leave as is\n",
    "\n",
    "### 3SsnPorch \n",
    "+ leave as is\n",
    "\n",
    "### Alley \n",
    "+ set NaNs to NA's\n",
    "+ dummy encode\n",
    "\n",
    "### BedroomAbvGr \n",
    "+ leave as is\n",
    "\n",
    "### BldgType \n",
    "+ dummy encode\n",
    "\n",
    "### BsmtCond \n",
    "+ when missing: \n",
    "1. total bsmt sqft is 0.0 or NaN ==> NA\n",
    "2. total bsmt sqft > 0.0 and is not NaN ==> TA\n",
    "+ ordinal encode\n",
    "\n",
    "### BsmtExposure\n",
    "+ when missing:\n",
    "1. total bsmt sqft is 0.0 or NaN ==> NA\n",
    "2. total bsmt sqft > 0.0 ==> No\n",
    "+ ordinal encode\n",
    "\n",
    "### BsmtFinSF1  and BsmtFinSF2\n",
    "+ drop; not reliable: when Unf, often does not add up to BsmtUnfSF\n",
    "\n",
    "### BsmtFinType1 and BsmtFinType2\n",
    "+ set NaN to NA\n",
    "\n",
    "### BsmtFullBath\n",
    "+ set 2 NaN to 0’s\n",
    "\n",
    "### BsmtHalfBath\n",
    "+ set 2 NaN to 0’s\n",
    "\n",
    "### BsmtQual\n",
    "+ when missing:\n",
    "1. total bsmt sqft is 0.0 or NaN ==> NA\n",
    "2. total bsmt sqft > 0.0 ==> TA\n",
    "+ ordinal encode\n",
    "\n",
    "### BsmtUnfSF\n",
    "+ set 1 NaN to 0\n",
    "\n",
    "### CentralAir\n",
    "+ binary encode\n",
    "\n",
    "### Condition1 and Condition2\n",
    "+ combined into 9 binary columns\n",
    "\n",
    "### Electrical\n",
    "+ set 1 NaN to ‘Mix’\n",
    "+ dummy encode\n",
    "\n",
    "### EnclosedPorch\n",
    "+ leave as is\n",
    "\n",
    "### ExterCond\n",
    "+ ordinal encode\n",
    "\n",
    "### ExterQual\n",
    "+ ordinal encode\n",
    "\n",
    "### Exterior1st and Exterior2nd\n",
    "+ 1 NaN to ‘Other’\n",
    "+ combined into 17 binary columns\n",
    "\n",
    "### Fence\n",
    "+ There are no NA’s in the data set, so it’s safe to set all NaNs to NA’s\n",
    "+ dummy encode\n",
    "\n",
    "### FireplaceQu\n",
    "+ There are no NA’s in the data set, so it’s safe to set all NaNs to NA’s\n",
    "+ No instance where NaN here but != Fireplaces (count col)\n",
    "+ ordinal encode\n",
    "\n",
    "### Foundation\n",
    "+ dummy encode\n",
    "\n",
    "### FullBath\n",
    "+ leave as is\n",
    "\n",
    "### Functional\n",
    "+ 2 NaNs to Typ since “Assume typical unless deductions are warranted”\n",
    "+ ordinal encode; Typ=0 and Sal=7\n",
    "\n",
    "### Garage Area\n",
    "+ 1 NaN impute average GarageArea\n",
    "+ leave as is otherwise\n",
    "\n",
    "### GarageCars\n",
    "+ 1 NaN impute average GarageCars\n",
    "+ leave as is otherwise\n",
    "\n",
    "### GarageCond\n",
    "+ No NA’s in dataset, so it’s safe to make all NaNs NA’s\n",
    "+ ordinal encode\n",
    "\n",
    "### GarageFinish\n",
    "+ No NA’s in dataset, so it’s safe to make all NaNs NA’s\n",
    "+ ordinal encode\n",
    "\n",
    "### GarageQual\n",
    "+ No NA’s in dataset, so it’s safe to make all NaNs NA’s\n",
    "+ ordinal encode\n",
    "\n",
    "### GarageType\n",
    "+ No NA’s in dataset, so it’s safe to make all NaNs NA’s\n",
    "+ dumm encode\n",
    "\n",
    "### GarageYrBlt\n",
    "+ so as to not throw off any regressor, all NaNs to average YrBlt\n",
    "\n",
    "### GrLivArea\n",
    "+ leave as is\n",
    "\n",
    "### HalfBath\n",
    "+ leave as is\n",
    "\n",
    "### Heating\n",
    "+ dummy encode\n",
    "\n",
    "### HeatingQC\n",
    "+ ordinal encode\n",
    "\n",
    "### HouseStyle\n",
    "+ convert to num floors\n",
    "\n",
    "### Id\n",
    "+ leave as is\n",
    "\n",
    "### KitchenAbvGr\n",
    "+ leave as is\n",
    "\n",
    "### KitchenQual\n",
    "+ 1 NaN to TA\n",
    "\n",
    "### LandContour\n",
    "+ dummy encode\n",
    "\n",
    "### LandSlope\n",
    "+ ordinal encode\n",
    "\n",
    "### LotArea\n",
    "+ leave as is\n",
    "\n",
    "### LotConfig\n",
    "+ dummy encode\n",
    "\n",
    "### LotFrontage\n",
    "+ there are no 0’s; NaNs to 0’s\n",
    "\n",
    "### LotShape\n",
    "+ ordinal encode\n",
    "\n",
    "### LowQualFinSF\n",
    "+ leave as is\n",
    "\n",
    "### MSSubClass\n",
    "+ drop; don’t know what to do with it and the numbers themselves aren’t ordinal\n",
    "\n",
    "### MSZoning\n",
    "+ dummy encode\n",
    "\n",
    "### MasVnrArea\n",
    "+ there ARE 0’s, so can’t assume NaNs are 0’s too\n",
    "+ however, looking at MasVnrType, and Exterior1st and Exterior2nd and \n",
    "MasVnrType when Exterior is stone or Cblock etc., it \n",
    "is evident that there these should be 0 and MasVnrType should be None\n",
    ":: df[ df.MasVnrArea.isnull() ][[col for col in df.columns if 'Mas' in col or 'Exter' in col]]\n",
    "\n",
    "### MasVnrType\n",
    "+ set NaNs to None’s (see MasVnrArea)\n",
    "+ dummy encode\n",
    "\n",
    "### MiscFeature\n",
    "+ set NaNs to NA's\n",
    "+ binary encode present/not present\n",
    "\n",
    "### MiscValue\n",
    "+ leavea as is\n",
    "\n",
    "### MoSold\n",
    "+ leave as is\n",
    "\n",
    "### Neighborhood\n",
    "+ dummy encode\n",
    "\n",
    "### OpenPorchSF\n",
    "+ leave as is\n",
    "\n",
    "### OverallCond\n",
    "+ leave as is\n",
    "\n",
    "### PavedDrive\n",
    "+ binary encode Y=1\n",
    "\n",
    "### PoolArea\n",
    "+ leave as is\n",
    "\n",
    "### PoolQC\n",
    "+ there are no NA’s in the data; NaNs to NA’s\n",
    "+ ordinal encode\n",
    "\n",
    "### RoofMatl\n",
    "+ dummy encode\n",
    "\n",
    "### RoofStyle\n",
    "+ dummy encode\n",
    "\n",
    "### SaleCondition\n",
    "+ dummy encode\n",
    "\n",
    "### SalePrice\n",
    "+ should have NaNs for test.csv, so it’s O.K.\n",
    "\n",
    "### SaleType\n",
    "+ set 1 NaN to Oth\n",
    "+ dummy encode\n",
    "\n",
    "### ScreenPorch\n",
    "+ leave as is\n",
    "\n",
    "### Street\n",
    "+ ordinal encode\n",
    "\n",
    "### TotRmsAbvGrd\n",
    "+ leave as is\n",
    "\n",
    "### TotalBsmtSF\n",
    "+ set 1 NaN to 0\n",
    "\n",
    "### Utilities\n",
    "+ set NaNs to ELO (electrical only)\n",
    "+ ordinal encode\n",
    "\n",
    "### WoodDeckSF\n",
    "+ leave as is\n",
    "\n",
    "### YearBuilt\n",
    "+ leave as is\n",
    "\n",
    "### YearRemodAdd\n",
    "+ leave as is\n",
    "\n",
    "### YrSold\n",
    "+ leave as is\n",
    "\n",
    "\n",
    "i. idea: add 1stf and 2ndflr together to get total square feet + garage square feet + 3SsnPorch + Bsmtsqft  + enclosedPorch(sqft) + openporchsf (maybe not this)\n",
    "\n",
    "ii. idea: add BedroomAbvGr and living quarters area from BsmtFinType1 and BsmtFinType2\n",
    "\n",
    "iii. idea: add fullbath and halfbath to bsmtfullbath and bsmthalfbath, add bsmtfullbath and fullbath, add halfbath and bsmthalfbath, and add bsmtfullbath and bsmthalfbath\n",
    "\n",
    "iv. idea: add GrLivArea and TotalBsmtSF to get total living area?\n",
    "\n",
    "v. idea: (garage + 1st flr sqft + wood deck + porch stuff) / lot size get a proportion of open space?\n",
    "\n",
    "vi. idea: assign to MSZoning an ordinal density as ordinal\n",
    "\n",
    "vii. idea: use porch sqft things to binary encode porch cols, e.g., Has_WoodDeck column\n",
    "\n",
    "viii. idea: outside area = wooddeck + openporch + pool area\n",
    "\n",
    "\n",
    "It seems that the best thing to do first would be to replace all of the NaNs (missing entries) with whatever the plan specifices as their replacement. So, let's do that first."
   ]
  },
  {
   "cell_type": "code",
   "execution_count": 5,
   "metadata": {},
   "outputs": [],
   "source": [
    "# Alley\n",
    "df['Alley'] = df['Alley'].fillna(value='NA')\n",
    "\n",
    "# BsmtCond NaNs\n",
    "temp_col = []\n",
    "for idx in df.index:\n",
    "    bsmt_cond = df['BsmtCond'].at[idx]\n",
    "    \n",
    "    # if missing entry\n",
    "    if pandas.isna(bsmt_cond):\n",
    "        bsmt_sf = df['TotalBsmtSF'].at[idx]\n",
    "        \n",
    "        # if TotalBsmtSF is 0 or missing ==> no basement\n",
    "        if bsmt_sf <= 0.0 or pandas.isna(bsmt_sf):\n",
    "            temp_col.append('NA')\n",
    "            \n",
    "        # else, there is a basement\n",
    "        else:\n",
    "            temp_col.append('TA')\n",
    "    # no missing entry\n",
    "    else:\n",
    "        temp_col.append(bsmt_cond)\n",
    "        \n",
    "df['BsmtCond'] = temp_col\n",
    "        "
   ]
  },
  {
   "cell_type": "code",
   "execution_count": 6,
   "metadata": {},
   "outputs": [],
   "source": [
    "# BsmtExposure NaNs\n",
    "temp_col = []\n",
    "for idx in df.index:\n",
    "    bsmt_cond = df['BsmtExposure'].at[idx]\n",
    "    \n",
    "    # if missing entry\n",
    "    if pandas.isna(bsmt_cond):\n",
    "        bsmt_sf = df['TotalBsmtSF'].at[idx]\n",
    "        \n",
    "        # if TotalBsmtSF is 0 or missing ==> no basement\n",
    "        if bsmt_sf <= 0.0 or pandas.isna(bsmt_sf):\n",
    "            temp_col.append('NA')\n",
    "            \n",
    "        # else, there is a basement\n",
    "        else:\n",
    "            temp_col.append('No')\n",
    "    # no missing entry\n",
    "    else:\n",
    "        temp_col.append(bsmt_cond)\n",
    "        \n",
    "df['BsmtExposure'] = temp_col\n",
    "        "
   ]
  },
  {
   "cell_type": "code",
   "execution_count": 7,
   "metadata": {},
   "outputs": [],
   "source": [
    "# Drop those 2 unreliable basement columns\n",
    "df = df.drop(['BsmtFinSF1', 'BsmtFinSF2'], axis=1)\n",
    "\n",
    "# Drop MSSubClass since not know what to do with IDs, at least for now\n",
    "df = df.drop(['MSSubClass'], axis=1)"
   ]
  },
  {
   "cell_type": "code",
   "execution_count": 8,
   "metadata": {},
   "outputs": [],
   "source": [
    "# BsmtFinType1 and 2 NaNs\n",
    "temp_bsmt1_col = []\n",
    "temp_bsmt2_col = []\n",
    "for idx in df.index:\n",
    "    bsmt_1 = df['BsmtFinType1'].at[idx]\n",
    "    bsmt_2 = df['BsmtFinType2'].at[idx]\n",
    "    \n",
    "    # BsmtFinType1 \n",
    "    if pandas.isna(bsmt_1):\n",
    "        temp_bsmt1_col.append('NA')\n",
    "    else:\n",
    "        temp_bsmt1_col.append(bsmt_1)\n",
    "        \n",
    "    # BsmtFinType2\n",
    "    if pandas.isna(bsmt_2):\n",
    "        temp_bsmt2_col.append('NA')\n",
    "    else:\n",
    "        temp_bsmt2_col.append(bsmt_2)\n",
    "        \n",
    "df['BsmtFinType1'] = temp_bsmt1_col\n",
    "df['BsmtFinType2'] = temp_bsmt2_col"
   ]
  },
  {
   "cell_type": "code",
   "execution_count": 9,
   "metadata": {},
   "outputs": [],
   "source": [
    "# BsmtFullBath\n",
    "df['BsmtFullBath'] = df['BsmtFullBath'].fillna(value=0)\n",
    "\n",
    "# BsmtHalfBath\n",
    "df['BsmtHalfBath'] = df['BsmtHalfBath'].fillna(value=0)\n"
   ]
  },
  {
   "cell_type": "code",
   "execution_count": 10,
   "metadata": {},
   "outputs": [],
   "source": [
    "# BsmtQual\n",
    "temp_col = []\n",
    "for idx in df.index:\n",
    "    bsmt_qual = df['BsmtQual'].at[idx]\n",
    "    \n",
    "    # if missing entry\n",
    "    if pandas.isna(bsmt_qual):\n",
    "        bsmt_sf = df['TotalBsmtSF'].at[idx]\n",
    "        \n",
    "        # if TotalBsmtSF is 0 or missing ==> no basement\n",
    "        if bsmt_sf <= 0.0 or pandas.isna(bsmt_sf):\n",
    "            temp_col.append('NA')\n",
    "            \n",
    "        # else, there is a basement\n",
    "        else:\n",
    "            temp_col.append('TA')\n",
    "    # no missing entry\n",
    "    else:\n",
    "        temp_col.append(bsmt_qual)\n",
    "        \n",
    "df['BsmtQual'] = temp_col\n",
    "        "
   ]
  },
  {
   "cell_type": "code",
   "execution_count": 11,
   "metadata": {},
   "outputs": [],
   "source": [
    "# BsmtUnfSF\n",
    "df['BsmtUnfSF'] = df['BsmtUnfSF'].fillna(value=0)\n",
    "\n",
    "# Electrical\n",
    "df['Electrical'] = df['Electrical'].fillna(value='Mix')\n",
    "\n",
    "# Exterior1st\n",
    "df['Exterior1st'] = df['Exterior1st'].fillna(value='Other')\n",
    "\n",
    "# Exterior2nd\n",
    "df['Exterior2nd'] = df['Exterior2nd'].fillna(value='Other')\n",
    "\n",
    "# Fence\n",
    "df['Fence'] = df['Fence'].fillna(value='NA')\n",
    "\n",
    "# FireplaceQu\n",
    "df['FireplaceQu'] = df['FireplaceQu'].fillna(value='NA')\n",
    "\n",
    "# Functional\n",
    "df['Functional'] = df['Functional'].fillna(value='Typ')\n",
    "\n",
    "# GarageArea\n",
    "df['GarageArea'] = df['GarageArea'].fillna(value=df['GarageArea'].mean())\n",
    "\n",
    "# GarageCars\n",
    "df['GarageCars'] = df['GarageCars'].fillna(value=df['GarageCars'].mean())\n",
    "\n",
    "# GarageCond\n",
    "df['GarageCond'] = df['GarageCond'].fillna(value='NA')\n",
    "\n",
    "# GarageFinish\n",
    "df['GarageFinish'] = df['GarageFinish'].fillna(value='NA')\n",
    "\n",
    "# GarageQual\n",
    "df['GarageQual'] = df['GarageQual'].fillna(value='NA')\n",
    "\n",
    "# GarageType\n",
    "df['GarageType'] = df['GarageType'].fillna(value='NA')\n",
    "\n",
    "# GarageYrBlt\n",
    "df['GarageYrBlt'] = df['GarageYrBlt'].fillna(value=df['GarageYrBlt'].mean())\n",
    "\n",
    "# KitchenQual\n",
    "df['KitchenQual'] = df['KitchenQual'].fillna(value='TA')\n",
    "\n",
    "# LotFrontage\n",
    "df['LotFrontage'] = df['LotFrontage'].fillna(value=0)\n",
    "\n",
    "# MasVnrArea\n",
    "df['MasVnrArea'] = df['MasVnrArea'].fillna(value=0)\n",
    "\n",
    "# MasVnrType\n",
    "df['MasVnrType'] = df['MasVnrType'].fillna(value='None')\n",
    "\n",
    "# MiscFeature\n",
    "df['MiscFeature'] = df['MiscFeature'].fillna(value='NA')\n",
    "\n",
    "# PoolQC\n",
    "df['PoolQC'] = df['PoolQC'].fillna(value='NA')\n",
    "\n",
    "# SaleType\n",
    "df['SaleType'] = df['SaleType'].fillna(value='Oth')\n",
    "\n",
    "# TotalBsmtSF\n",
    "df['TotalBsmtSF'] = df['TotalBsmtSF'].fillna(value=0)\n",
    "\n",
    "# Utilities\n",
    "df['Utilities'] = df['Utilities'].fillna(value='ELO')\n",
    "\n"
   ]
  },
  {
   "cell_type": "markdown",
   "metadata": {},
   "source": [
    "That covers all of the NaNs/missing entries except for SalePrice which should have missing entries since that is what we are trying to predict in test.csv. The next step is to binary and ordinal encode all relevant columns. Dummy encoding will come later because it will be done just by doing pandas.get_dummies(df). This funciton will split all columns that are not numerical columns into binary columns, the number of which is equal to the number of unique values in that non-numerical column. This is not something that should be done to columns that just will be binary encoded (since it would split into 2 columns when 1 is sufficient) nor to columns that will be ordinal encoded."
   ]
  },
  {
   "cell_type": "code",
   "execution_count": 12,
   "metadata": {},
   "outputs": [],
   "source": [
    "def ordinal_encode(df, col_name, conversion_dict):\n",
    "    \"\"\"\n",
    "    df = dataframe with whole data set\n",
    "    col_name = name of col want to label encode\n",
    "    conversion_dict = keys are all current unique values\n",
    "    and corresponding values in the dict are the values to\n",
    "    which the labels should be encoded\n",
    "    \"\"\"\n",
    "    encoded_col = []\n",
    "    for entry in df[col_name]:\n",
    "        encoded_col.append( conversion_dict[entry] )\n",
    "           \n",
    "    return encoded_col\n",
    "\n",
    "bsmtcond_dict = {'Ex': 5,\n",
    "                 'Gd': 4,\n",
    "                 'TA': 3,\n",
    "                 'Fa': 2,\n",
    "                 'Po': 1,\n",
    "                 'NA': 0}\n",
    "df['BsmtCond'] = ordinal_encode(df, 'BsmtCond', bsmtcond_dict)\n",
    "\n",
    "bsmtexposure_dict = {'Gd': 4,\n",
    "                     'Av': 3, \n",
    "                     'Mn': 2,\n",
    "                     'No': 1,\n",
    "                     'NA': 0}\n",
    "df['BsmtExposure'] = ordinal_encode(df, 'BsmtExposure', bsmtexposure_dict)\n",
    "\n",
    "bsmtqual_dict = {'Ex': 5,\n",
    "                 'Gd': 4,\n",
    "                 'TA': 3,\n",
    "                 'Fa': 2,\n",
    "                 'Po': 1,\n",
    "                 'NA': 0}\n",
    "df['BsmtQual'] = ordinal_encode(df, 'BsmtQual', bsmtqual_dict)\n",
    "\n",
    "df['CentralAir'] = (df['CentralAir'] == True) * 1\n",
    "\n",
    "extercond_dict = {'Ex': 5,\n",
    "                  'Gd': 4,\n",
    "                  'TA': 3,\n",
    "                  'Fa': 2,\n",
    "                  'Po': 1,}\n",
    "df['ExterCond'] = ordinal_encode(df, 'ExterCond', extercond_dict)\n",
    "\n",
    "exterqual_dict = extercond_dict\n",
    "df['ExterQual'] = ordinal_encode(df, 'ExterQual', exterqual_dict)\n",
    "\n",
    "fireplacequ_dict = {'Ex': 5,\n",
    "                    'Gd': 4,\n",
    "                    'TA': 3,\n",
    "                    'Fa': 2,\n",
    "                    'Po': 1,\n",
    "                    'NA': 0}\n",
    "df['FireplaceQu'] = ordinal_encode(df, 'FireplaceQu', fireplacequ_dict)\n",
    "\n",
    "functional_dict = {'Typ': 0,\n",
    "                   'Min1': 1,\n",
    "                   'Min2': 2,\n",
    "                   'Mod': 3,\n",
    "                   'Maj1': 4,\n",
    "                   'Maj2': 5,\n",
    "                   'Sev': 6, \n",
    "                   'Sal': 7}\n",
    "df['Functional'] = ordinal_encode(df, 'Functional', functional_dict)\n",
    "\n",
    "garagecond_dict = {'Ex': 5,\n",
    "                   'Gd': 4,\n",
    "                   'TA': 3,\n",
    "                   'Fa': 2,\n",
    "                   'Po': 1,\n",
    "                   'NA': 0}\n",
    "df['GarageCond'] = ordinal_encode(df, 'GarageCond', garagecond_dict)\n",
    "\n",
    "garagefinish_dict = {'Fin': 3,\n",
    "                     'RFn': 2,\n",
    "                     'Unf': 1,\n",
    "                     'NA': 0}\n",
    "df['GarageFinish'] = ordinal_encode(df, 'GarageFinish', garagefinish_dict)\n",
    "\n",
    "garagequal_dict = {'Ex': 5,\n",
    "                   'Gd': 4,\n",
    "                   'TA': 3,\n",
    "                   'Fa': 2,\n",
    "                   'Po': 1,\n",
    "                   'NA': 0}\n",
    "df['GarageQual'] = ordinal_encode(df, 'GarageQual', garagequal_dict)\n",
    "\n",
    "heatingqc_dict = {'Ex': 5,\n",
    "                  'Gd': 4,\n",
    "                  'TA': 3,\n",
    "                  'Fa': 2,\n",
    "                  'Po': 1}\n",
    "df['HeatingQC'] = ordinal_encode(df, 'HeatingQC', heatingqc_dict)\n",
    "\n",
    "kitchenqual_dict = {'Ex': 5,\n",
    "                    'Gd': 4,\n",
    "                    'TA': 3,\n",
    "                    'Fa': 2,\n",
    "                    'Po': 1,}\n",
    "df['KitchenQual'] = ordinal_encode(df, 'KitchenQual', kitchenqual_dict)\n",
    "\n",
    "landslope_dict = {'Gtl': 1,\n",
    "                  'Mod': 2,\n",
    "                  'Sev': 3,}\n",
    "df['LandSlope'] = ordinal_encode(df, 'LandSlope', landslope_dict)\n",
    "\n",
    "lotshape_dict = {'Reg': 1,\n",
    "                 'IR1': 2,\n",
    "                 'IR2': 3, \n",
    "                 'IR3': 4}\n",
    "df['LotShape'] = ordinal_encode(df, 'LotShape', lotshape_dict)\n",
    "\n",
    "paveddrive_dict  ={'Y': 3,\n",
    "                   'P': 2,\n",
    "                   'N': 1}\n",
    "df['PavedDrive'] = ordinal_encode(df, 'PavedDrive', paveddrive_dict)\n",
    "\n",
    "poolqc_dict = {'Ex': 4,\n",
    "               'Gd': 3,\n",
    "               'TA': 2,\n",
    "               'Fa': 1,\n",
    "               'NA': 0}\n",
    "df['PoolQC'] = ordinal_encode(df, 'PoolQC', poolqc_dict)\n",
    "\n",
    "df['Street_Paved'] = (df['Street'] == 'Pave') * 1\n",
    "df = df.drop('Street', axis=1)\n",
    "\n",
    "utilities_dict = {'AllPub': 4,\n",
    "                  'NoSewr': 3,\n",
    "                  'NoSeWa': 2,\n",
    "                  'ELO': 1}\n",
    "df['Utilities'] = ordinal_encode(df, 'Utilities', utilities_dict)\n",
    "\n",
    "\n"
   ]
  },
  {
   "cell_type": "markdown",
   "metadata": {},
   "source": [
    "Now that the NaNs have been replaced and all relevant columns have been binary or ordinal encoded, the next order of business is to combine the columns that should be combined. There are only two such sets columns: Condition1 and Condition2; Exterior1st and Exterior2nd."
   ]
  },
  {
   "cell_type": "code",
   "execution_count": 13,
   "metadata": {},
   "outputs": [],
   "source": [
    "condition_cols = ['Condition_Artery',\n",
    "                  'Condition_Feedr',\n",
    "                  'Condition_Norm',\n",
    "                  'Condition_RRNn',\n",
    "                  'Condition_RRAn',\n",
    "                  'Condition_PosN',\n",
    "                  'Condition_PosA',\n",
    "                  'Condition_RRNe',\n",
    "                  'Condition_RRAe',\n",
    "                  'Condition_Artery',\n",
    "                  'Conditions']\n",
    "\n",
    "# Initialize these columns to all 0's\n",
    "for col in condition_cols:\n",
    "    df[col] = 0\n",
    "    \n",
    "num_conditions_list = []\n",
    "for idx, condition_1, condition_2 in zip(df.index,\n",
    "                                         df['Condition1'].values,\n",
    "                                         df['Condition2'].values):\n",
    "    num_conditions = 2\n",
    "    for entry in [condition_1, condition_2]:\n",
    "        \n",
    "        if entry == 'Norm':\n",
    "            num_conditions -= 1\n",
    "            df['Condition_Norm'].at[idx] = 1\n",
    "            \n",
    "        elif entry == 'Artery':\n",
    "            df['Condition_Artery'].at[idx] = 1\n",
    "            \n",
    "        elif entry == 'Feedr':\n",
    "            df['Condition_Feedr'].at[idx] = 1\n",
    "            \n",
    "        elif entry == 'RRNn':\n",
    "            df['Condition_RRNn'].at[idx] = 1\n",
    "            \n",
    "        elif entry == 'RRAn':\n",
    "            df['Condition_RRAn'].at[idx] = 1\n",
    "            \n",
    "        elif entry == 'PosN':\n",
    "            df['Condition_PosN'].at[idx] = 1\n",
    "            \n",
    "        elif entry == 'PosA':\n",
    "            df['Condition_PosA'].at[idx] = 1\n",
    "            \n",
    "        elif entry == 'RRNe':\n",
    "            df['Condition_RRNe'].at[idx] = 1\n",
    "            \n",
    "        else:\n",
    "            df['Condition_RRAe'].at[idx] = 1\n",
    "            \n",
    "    num_conditions_list.append(num_conditions)\n",
    "            \n",
    "df['Conditions'] = num_conditions_list\n",
    "df = df.drop(['Condition1', 'Condition2'], axis=1)"
   ]
  },
  {
   "cell_type": "markdown",
   "metadata": {},
   "source": [
    "Same thing for Exterior1st and Exterior2nd."
   ]
  },
  {
   "cell_type": "code",
   "execution_count": 14,
   "metadata": {},
   "outputs": [],
   "source": [
    "# This is a better way to do this sort of encoding\n",
    "exterior_values_list = np.unique( np.append(df['Exterior1st'].values,\n",
    "                                            df['Exterior2nd'].values) )\n",
    "\n",
    "# Create thos column names automatically (created manually before)\n",
    "new_exterior_cols_list = []\n",
    "for possible_value in exterior_values_list:\n",
    "    new_exterior_cols_list.append( 'Exterior_{}'.format(possible_value))\n",
    "\n",
    "# Initialize these columns to all 0's\n",
    "for col in new_exterior_cols_list:\n",
    "    df[col] = 0\n",
    "    \n",
    "# Much better than having 17 if-elif-else statements\n",
    "for idx, exterior_1, exterior_2 in zip(df.index,\n",
    "                                       df['Exterior1st'].values,\n",
    "                                       df['Exterior2nd'].values):\n",
    "    for entry in [exterior_1, exterior_2]:\n",
    "        df['Exterior_{}'.format(entry)].at[idx] = 1\n",
    "        \n",
    "            \n",
    "            \n",
    "df = df.drop(['Exterior1st', 'Exterior2nd'], axis=1)"
   ]
  },
  {
   "cell_type": "markdown",
   "metadata": {},
   "source": [
    "All that remains in this feature engineering plan is extracting the number of stories from HouseStyle, implementing some of those 8 ideas, and dummy encoding the remaining object columns. We'll do all of those things in that order."
   ]
  },
  {
   "cell_type": "code",
   "execution_count": 15,
   "metadata": {},
   "outputs": [],
   "source": [
    "# Add column for number of stories\n",
    "housestyle_num_stories_dict = {'1Story': 1.0,\n",
    "                               '1.5Fin': 1.5,\n",
    "                               '1.5Unf': 1.5,\n",
    "                               '2Story': 2.0, \n",
    "                               '2.5Fin': 2.5,\n",
    "                               '2.5Unf': 2.5,\n",
    "                               'SFoyer': 1.5,\n",
    "                                'SLvl': 1.5,}\n",
    "df['NumStories'] = ordinal_encode(df, 'HouseStyle', \n",
    "                                housestyle_num_stories_dict)\n",
    "\n",
    "# Add column for finished/not finished\n",
    "housestyle_finished_dict = {'1Story': 1,\n",
    "                           '1.5Fin': 1,\n",
    "                           '1.5Unf': 0,\n",
    "                           '2Story': 1, \n",
    "                           '2.5Fin': 1,\n",
    "                           '2.5Unf': 0,\n",
    "                           'SFoyer': 1,\n",
    "                            'SLvl': 1,}\n",
    "df['Finished'] = ordinal_encode(df, 'HouseStyle',\n",
    "                              housestyle_finished_dict)\n",
    "\n",
    "# Add column for any splitting or not\n",
    "housestyle_split_dict = {'1Story': 0,\n",
    "                       '1.5Fin': 1,\n",
    "                       '1.5Unf': 1,\n",
    "                       '2Story': 0, \n",
    "                       '2.5Fin': 1,\n",
    "                       '2.5Unf': 1,\n",
    "                       'SFoyer': 1,\n",
    "                        'SLvl': 1,}\n",
    "df['SplitStories'] = ordinal_encode(df, 'HouseStyle', \n",
    "                                  housestyle_split_dict)\n",
    "\n",
    "# These columns aren't really replacing HouseStyle, so not dropping HouseStyle\n",
    "#df = df.drop('HouseStyle', axis=1)"
   ]
  },
  {
   "cell_type": "markdown",
   "metadata": {},
   "source": [
    "Now we can start going through and implementing some of the ideas. The first idea is to do: 1stFlrSF + 2ndFlrSF + GarageArea + 3SsnPoch + EnclosedPorch + OpenPorchSF + ScreenPorch + TotalBsmtSF. This should be close to the size of the house altogether. "
   ]
  },
  {
   "cell_type": "code",
   "execution_count": 16,
   "metadata": {},
   "outputs": [],
   "source": [
    "# Idea No. 1\n",
    "df['HouseAltogther'] = 0   # column of 0's\n",
    "for idx in df.index:\n",
    "    df['HouseAltogther'].at[idx] = df['1stFlrSF'].at[idx] +\\\n",
    "                                   df['2ndFlrSF'].at[idx] +\\\n",
    "                                   df['GarageArea'].at[idx] +\\\n",
    "                                   df['3SsnPorch'].at[idx] +\\\n",
    "                                   df['EnclosedPorch'].at[idx] +\\\n",
    "                                   df['OpenPorchSF'].at[idx] +\\\n",
    "                                   df['ScreenPorch'].at[idx] +\\\n",
    "                                   df['TotalBsmtSF'].at[idx]\n",
    "\n",
    "    \n",
    "    "
   ]
  },
  {
   "cell_type": "markdown",
   "metadata": {},
   "source": [
    "Idea No. 2 is to add BedroomAbvGr to the number of bedrooms in the basement."
   ]
  },
  {
   "cell_type": "code",
   "execution_count": 17,
   "metadata": {},
   "outputs": [],
   "source": [
    "# Idea No. 2\n",
    "df['NumBedrooms'] = 0\n",
    "bsmt_bedrooms = ['GLQ', 'ALQ', 'BLQ']\n",
    "for idx in df.index:\n",
    "    df['NumBedrooms'].at[idx] = df['BedroomAbvGr'].at[idx] +\\\n",
    "                                (df['BsmtFinType1'].at[idx] in bsmt_bedrooms)*1 +\\\n",
    "                                (df['BsmtFinType2'].at[idx] in bsmt_bedrooms)*1\n",
    "    "
   ]
  },
  {
   "cell_type": "markdown",
   "metadata": {},
   "source": [
    "Idea No. 3 is to get the total number of baths in the house, the total number of baths in the basement, the total number of full baths, and the total number of half baths. This is useful because basement baths are not counted in FullBath or HalfBath; those two only count ``above grade'' baths."
   ]
  },
  {
   "cell_type": "code",
   "execution_count": 18,
   "metadata": {},
   "outputs": [],
   "source": [
    "# Idea No. 3\n",
    "df['TotalBath'] = 0\n",
    "df['TotalFullBath'] = 0\n",
    "df['TotalHalfBath'] = 0\n",
    "df['TotalBsmtBath'] = 0\n",
    "for idx in df.index:\n",
    "    above_full = df['FullBath'].at[idx]\n",
    "    above_half = df['HalfBath'].at[idx]\n",
    "    bsmt_full = df['BsmtFullBath'].at[idx]\n",
    "    bsmt_half = df['BsmtHalfBath'].at[idx]\n",
    "    \n",
    "    df['TotalBath'].at[idx] = above_full + above_half + bsmt_full + bsmt_half\n",
    "    df['TotalFullBath'].at[idx] = above_full + bsmt_full\n",
    "    df['TotalHalfBath'].at[idx] = above_half + bsmt_half\n",
    "    df['TotalBsmtBath'].at[idx] = bsmt_full + bsmt_half\n",
    "    "
   ]
  },
  {
   "cell_type": "markdown",
   "metadata": {},
   "source": [
    "Idea No. 4 is to add GrLivArea and TotalBsmtSqft to get another measurement of the size of the house altogether. This one differs slightly from HouseAltogether in that it only includes that which is indoors, i.e., decks, garages, porches are exclued. "
   ]
  },
  {
   "cell_type": "code",
   "execution_count": 19,
   "metadata": {},
   "outputs": [],
   "source": [
    "# Idea No. 4\n",
    "df['LivingArea'] = 0\n",
    "for idx in df.index:\n",
    "    df['LivingArea'].at[idx] = df['GrLivArea'].at[idx] + df['TotalBsmtSF'].at[idx]\n",
    "                                                                                                                                                                  "
   ]
  },
  {
   "cell_type": "markdown",
   "metadata": {},
   "source": [
    "Idea No. 5 tries to calculate the proportion of the lot that the structure takes up. This proportion is: (GarageArea + 1stFlrSF + WoodDeck + OpenPorchSF + EnclosedPorchSF + 3SsnPoch + ScreenPorch + PoolArea) / LotArea."
   ]
  },
  {
   "cell_type": "code",
   "execution_count": 20,
   "metadata": {},
   "outputs": [],
   "source": [
    "# Idea No. 5\n",
    "df['HouseToLot'] = 0.0   # house to lot as in \"hosue to lot ratio\"\n",
    "for idx in df.index:\n",
    "    sum_of_areas = (df['GarageArea'].at[idx] +\\\n",
    "                   df['1stFlrSF'].at[idx] +\\\n",
    "                   df['WoodDeckSF'].at[idx] +\\\n",
    "                   df['OpenPorchSF'].at[idx] +\\\n",
    "                   df['EnclosedPorch'].at[idx] +\\\n",
    "                   df['3SsnPorch'].at[idx]) +\\\n",
    "                   df['ScreenPorch'].at[idx] +\\\n",
    "                   df['PoolArea'].at[idx]\n",
    "    \n",
    "    df['HouseToLot'].at[idx] = sum_of_areas / float(df['LotArea'].at[idx])\n",
    "        "
   ]
  },
  {
   "cell_type": "markdown",
   "metadata": {},
   "source": [
    "Idea No. 6 is to try and extract density from MSZoning not just for the residential entries, but also for agricultural, commercial, floating village, and industrial."
   ]
  },
  {
   "cell_type": "code",
   "execution_count": 21,
   "metadata": {},
   "outputs": [],
   "source": [
    "# Idea No. 6\n",
    "density_dict = {'A': 1,\n",
    "                'C (all)': 2,\n",
    "                'FV': 1,\n",
    "                'I': 2,\n",
    "                'RH': 3,\n",
    "                'RL': 1,\n",
    "                'RP': 1,\n",
    "                'RM': 2,\n",
    "                np.nan: 1}\n",
    "df['Density'] = 0\n",
    "for idx in df.index:\n",
    "    df['Density'].at[idx] = density_dict[ df['MSZoning'].at[idx] ]"
   ]
  },
  {
   "cell_type": "markdown",
   "metadata": {},
   "source": [
    "Idea No. 7 is to use the Porch and WoodDeck columns to create binary columns for each respective type, e.g., want Has_WoodDeck as a column of 1's and 0's."
   ]
  },
  {
   "cell_type": "code",
   "execution_count": 22,
   "metadata": {},
   "outputs": [],
   "source": [
    "# Idea No. 7\n",
    "deck_and_porch_cols = ['WoodDeckSF',\n",
    "                       'OpenPorchSF',\n",
    "                       'EnclosedPorch',\n",
    "                       '3SsnPorch', \n",
    "                       'ScreenPorch']\n",
    "\n",
    "for col in deck_and_porch_cols:\n",
    "    df['Has_' + col.replace('SF', '')] = 0\n",
    "\n",
    "for idx in df.index:\n",
    "    for col in deck_and_porch_cols:\n",
    "        if df[col].at[idx] != 0:\n",
    "            df['Has_' + col.replace('SF', '')].at[idx] = 1\n",
    "\n"
   ]
  },
  {
   "cell_type": "markdown",
   "metadata": {},
   "source": [
    "Lastly, idea No. 8: add up all of the outdoor area. "
   ]
  },
  {
   "cell_type": "code",
   "execution_count": 23,
   "metadata": {},
   "outputs": [],
   "source": [
    "outdoor_cols = ['PoolArea', \n",
    "                'OpenPorchSF',\n",
    "                'WoodDeckSF']\n",
    "df['OutdoorArea'] = 0\n",
    "\n",
    "for idx in df.index:\n",
    "    outdoor_area = 0\n",
    "    for col in outdoor_cols:\n",
    "        outdoor_area += df[col].at[idx]\n",
    "    df['OutdoorArea'].at[idx] = outdoor_area\n",
    "    "
   ]
  },
  {
   "cell_type": "markdown",
   "metadata": {},
   "source": [
    "By this point, all NaN that needed replacing have been replaced, relevant columns have been binary or ordinal encoded, the two pairs of columns have been \"combined and split\" into a number binary columns equal to the number of unique entries in one column, and the 8 ideas have been implemented. \n",
    "\n",
    "\n",
    "Now, we are ready to dummy encode everything else and get to work on model building. "
   ]
  },
  {
   "cell_type": "code",
   "execution_count": 24,
   "metadata": {},
   "outputs": [],
   "source": [
    "df = pandas.get_dummies(df.drop('SalePrice',\n",
    "                                axis=1)).join(pandas.DataFrame(df['SalePrice']))"
   ]
  },
  {
   "cell_type": "code",
   "execution_count": 25,
   "metadata": {},
   "outputs": [],
   "source": [
    "# Know that there are no NaNs, but want to make sure that there are\n",
    "# no object columns that would mess with model building\n",
    "for col in df.columns:\n",
    "    if df[col].dtype == 'O':\n",
    "        print('{} \\t True'.format(col))"
   ]
  },
  {
   "cell_type": "markdown",
   "metadata": {},
   "source": [
    "That was a lot of feature engineering, but hopefully it will be worth it. There are no columns whose data type is 'O' for 'object,' so we can start building some models to predict sale prices."
   ]
  },
  {
   "cell_type": "code",
   "execution_count": 26,
   "metadata": {},
   "outputs": [],
   "source": [
    "current_train_ids = []\n",
    "current_test_ids = []\n",
    "\n",
    "# row id not necesssarily equal data frame index\n",
    "for row_id in df['Id'].values:\n",
    "    if row_id in test_csv_ids:\n",
    "        current_test_ids.append(row_id)\n",
    "    else:\n",
    "        current_train_ids.append(row_id)\n",
    "        \n",
    "current_train_indicies = sorted(current_train_ids)\n",
    "current_test_indicies = sorted(current_test_ids)\n",
    "\n",
    "df_train = df[ df.Id.isin(current_train_ids) ]\n",
    "df_test = df[ df.Id.isin(current_test_ids) ]"
   ]
  },
  {
   "cell_type": "code",
   "execution_count": 27,
   "metadata": {},
   "outputs": [],
   "source": [
    "from sklearn.metrics import mean_squared_log_error\n",
    "def rmsle(y_actuals, y_predicteds):\n",
    "    return math.sqrt( mean_squared_log_error(np.abs(y_actuals), np.abs(y_predicteds)) )"
   ]
  },
  {
   "cell_type": "code",
   "execution_count": 28,
   "metadata": {},
   "outputs": [],
   "source": [
    "from sklearn.model_selection import train_test_split\n",
    "x_train, x_test, y_train, y_test =\\\n",
    "train_test_split(df_train.drop('SalePrice', axis=1),\n",
    "                 df_train['SalePrice'],\n",
    "                 test_size=0.03) # 0.25 seems to be closest to the\n",
    "# Kaggle RMSLE scores when training on all of train.csv\n",
    "# Training submitted models on almost all of the data"
   ]
  },
  {
   "cell_type": "code",
   "execution_count": 29,
   "metadata": {},
   "outputs": [
    {
     "name": "stdout",
     "output_type": "stream",
     "text": [
      "Random forest training RMSLE: 0.05790326838632951\n",
      "Random forest testing RMSLE: 0.10972051620625298\n"
     ]
    }
   ],
   "source": [
    "from sklearn.ensemble import RandomForestRegressor\n",
    "# Random forest regressor on the feature engineered data\n",
    "rfr = RandomForestRegressor(n_estimators=1000, max_depth=None)\n",
    "rfr.fit(x_train, y_train)\n",
    "\n",
    "print('Random forest training RMSLE: {}'.format(rmsle(y_train, np.abs(rfr.predict(x_train)))) )\n",
    "print('Random forest testing RMSLE: {}'.format(rmsle(y_test, np.abs(rfr.predict(x_test)))) )\n",
    " "
   ]
  },
  {
   "cell_type": "code",
   "execution_count": 30,
   "metadata": {},
   "outputs": [
    {
     "name": "stdout",
     "output_type": "stream",
     "text": [
      "Linear reg. training RMSLE: 0.13743541588095048\n",
      "Linear reg. testing RMSLE: 0.1398677848249827\n"
     ]
    },
    {
     "name": "stderr",
     "output_type": "stream",
     "text": [
      "/usr/local/lib/python3.6/site-packages/sklearn/linear_model/base.py:509: RuntimeWarning: internal gelsd driver lwork query error, required iwork dimension not returned. This is likely the result of LAPACK bug 0038, fixed in LAPACK 3.2.2 (released July 21, 2010). Falling back to 'gelss' driver.\n",
      "  linalg.lstsq(X, y)\n"
     ]
    }
   ],
   "source": [
    "from sklearn.linear_model import LinearRegression\n",
    "\n",
    "lr = LinearRegression()\n",
    "\n",
    "lr.fit(x_train, y_train)\n",
    "\n",
    "\n",
    "print('Linear reg. training RMSLE: {}'.format(rmsle(y_train, np.abs(lr.predict(x_train)))) )\n",
    "print('Linear reg. testing RMSLE: {}'.format(rmsle(y_test, np.abs(lr.predict(x_test)))) )\n"
   ]
  },
  {
   "cell_type": "code",
   "execution_count": 31,
   "metadata": {},
   "outputs": [
    {
     "name": "stderr",
     "output_type": "stream",
     "text": [
      "/usr/local/lib/python3.6/site-packages/sklearn/linear_model/least_angle.py:313: ConvergenceWarning: Regressors in active set degenerate. Dropping a regressor, after 50 iterations, i.e. alpha=7.485e+01, with an active set of 46 regressors, and the smallest cholesky pivot element being 2.581e-08. Reduce max_iter or increase eps parameters.\n",
      "  ConvergenceWarning)\n",
      "/usr/local/lib/python3.6/site-packages/sklearn/linear_model/least_angle.py:313: ConvergenceWarning: Regressors in active set degenerate. Dropping a regressor, after 89 iterations, i.e. alpha=3.081e+01, with an active set of 77 regressors, and the smallest cholesky pivot element being 3.332e-08. Reduce max_iter or increase eps parameters.\n",
      "  ConvergenceWarning)\n",
      "/usr/local/lib/python3.6/site-packages/sklearn/linear_model/least_angle.py:313: ConvergenceWarning: Regressors in active set degenerate. Dropping a regressor, after 147 iterations, i.e. alpha=1.124e+01, with an active set of 131 regressors, and the smallest cholesky pivot element being 2.581e-08. Reduce max_iter or increase eps parameters.\n",
      "  ConvergenceWarning)\n",
      "/usr/local/lib/python3.6/site-packages/sklearn/linear_model/least_angle.py:313: ConvergenceWarning: Regressors in active set degenerate. Dropping a regressor, after 147 iterations, i.e. alpha=1.105e+01, with an active set of 131 regressors, and the smallest cholesky pivot element being 2.980e-08. Reduce max_iter or increase eps parameters.\n",
      "  ConvergenceWarning)\n",
      "/usr/local/lib/python3.6/site-packages/sklearn/linear_model/least_angle.py:339: ConvergenceWarning: Early stopping the lars path, as the residues are small and the current value of alpha is no longer well controlled. 174 iterations, alpha=6.608e+00, previous alpha=6.349e+00, with an active set of 155 regressors.\n",
      "  ConvergenceWarning)\n"
     ]
    },
    {
     "name": "stdout",
     "output_type": "stream",
     "text": [
      "LassoLarsCV testing RMSLE: 0.1432573674005319\n",
      "LassoLarsCV testing RMSLE: 0.1344938311407669\n"
     ]
    }
   ],
   "source": [
    "from sklearn.linear_model import LassoLarsCV\n",
    "\n",
    "llcv = LassoLarsCV(max_iter=1000)\n",
    "\n",
    "llcv.fit(x_train, y_train)\n",
    "\n",
    "print('LassoLarsCV testing RMSLE: {}'.format(rmsle(y_train,\n",
    "                                                                        np.abs(llcv.predict(x_train)) ) ) ) \n",
    "print('LassoLarsCV testing RMSLE: {}'.format(rmsle(y_test,\n",
    "                                                                        np.abs(llcv.predict(x_test)) ) ) ) \n",
    "\n"
   ]
  },
  {
   "cell_type": "code",
   "execution_count": 32,
   "metadata": {},
   "outputs": [
    {
     "name": "stderr",
     "output_type": "stream",
     "text": [
      "/usr/local/lib/python3.6/site-packages/ipykernel_launcher.py:3: SettingWithCopyWarning: \n",
      "A value is trying to be set on a copy of a slice from a DataFrame.\n",
      "Try using .loc[row_indexer,col_indexer] = value instead\n",
      "\n",
      "See the caveats in the documentation: http://pandas.pydata.org/pandas-docs/stable/indexing.html#indexing-view-versus-copy\n",
      "  This is separate from the ipykernel package so we can avoid doing imports until\n"
     ]
    }
   ],
   "source": [
    "rfr_predictions = rfr.predict(df_test.drop('SalePrice', axis=1))\n",
    "\n",
    "df_test['SalePrice'] = rfr_predictions\n",
    "\n",
    "\n",
    "# df_test[['Id', 'SalePrice']].to_csv('house_price_predictions.csv', \n",
    "#                                     index=False)"
   ]
  },
  {
   "cell_type": "markdown",
   "metadata": {},
   "source": [
    "The random forest regressor turned out to be the best performining model (also tried elastic net cross validation, huber regression, and multilayer perceptron regressor, but didn't perform well), so its predictions were submitted to Kaggle. According to the testing data, the rfr should have had an RMSLE of about 0.135; however, Kaggle scored the rfr's predictions at 0.153. To put this difference into perspective, consider an RMSLE of 0.135 puts the model at about 1800th place out of 4969 teams while an RMSLE of 0.153 would land at 2675th place.\n",
    "\n",
    "\n",
    "Even stranger was that when the random forest was trained on almost all of train.csv (approximately 99%), the RMSLE improved significantly on Kaggle's public leaderboard: down to 0.144 at 2272nd place (of 4969 teams)!\n",
    "\n",
    "\n",
    "This can indicate a few things, I think. First, this indicates that there is a somewhat meaningful difference between train.csv and test.csv, the latter of which is used to score on the Kaggle leaderboard. Second, this might be a worthwhile lesson: before deployning a machine learning model, train it on the entire data set. Now, tuning the model should still utilize a non-trivial train/test split (70/30, 75/25, 80/20, etc.). Third, the non-trivial test's RMSLE might not be entirely accurate. Fourth, while the RMSLE might not be accurate, it does still seem to be true that if one model is better than another with a 70/30 train/test split, then it will also be better even when there is a 99/01 train/test split.\n",
    "\n",
    "\n",
    "With this in mind, I'd like to try and see how a support vector regressor (SVR) performs. Given the difficulty that comes with tuning a support vector machine, a grid search (just brute-force trying a bunch of parameters and seeing what works) will be used to find decent hyperparameters."
   ]
  },
  {
   "cell_type": "code",
   "execution_count": 33,
   "metadata": {},
   "outputs": [
    {
     "name": "stdout",
     "output_type": "stream",
     "text": [
      "Fitting 3 folds for each of 18 candidates, totalling 54 fits\n",
      "[CV] C=10000000, epsilon=10, gamma=1e-07, kernel=rbf .................\n",
      "[CV]  C=10000000, epsilon=10, gamma=1e-07, kernel=rbf, score=0.39234367587595725, total=   0.5s\n",
      "[CV] C=10000000, epsilon=10, gamma=1e-07, kernel=rbf .................\n"
     ]
    },
    {
     "name": "stderr",
     "output_type": "stream",
     "text": [
      "[Parallel(n_jobs=1)]: Done   1 out of   1 | elapsed:    0.8s remaining:    0.0s\n"
     ]
    },
    {
     "name": "stdout",
     "output_type": "stream",
     "text": [
      "[CV]  C=10000000, epsilon=10, gamma=1e-07, kernel=rbf, score=0.3479065499557772, total=   0.5s\n",
      "[CV] C=10000000, epsilon=10, gamma=1e-07, kernel=rbf .................\n"
     ]
    },
    {
     "name": "stderr",
     "output_type": "stream",
     "text": [
      "[Parallel(n_jobs=1)]: Done   2 out of   2 | elapsed:    1.7s remaining:    0.0s\n"
     ]
    },
    {
     "name": "stdout",
     "output_type": "stream",
     "text": [
      "[CV]  C=10000000, epsilon=10, gamma=1e-07, kernel=rbf, score=0.39038135133527263, total=   0.5s\n",
      "[CV] C=10000000, epsilon=10, gamma=1e-06, kernel=rbf .................\n"
     ]
    },
    {
     "name": "stderr",
     "output_type": "stream",
     "text": [
      "[Parallel(n_jobs=1)]: Done   3 out of   3 | elapsed:    2.4s remaining:    0.0s\n"
     ]
    },
    {
     "name": "stdout",
     "output_type": "stream",
     "text": [
      "[CV]  C=10000000, epsilon=10, gamma=1e-06, kernel=rbf, score=0.7964501205479613, total=   0.5s\n",
      "[CV] C=10000000, epsilon=10, gamma=1e-06, kernel=rbf .................\n",
      "[CV]  C=10000000, epsilon=10, gamma=1e-06, kernel=rbf, score=0.7280412355985147, total=   0.6s\n",
      "[CV] C=10000000, epsilon=10, gamma=1e-06, kernel=rbf .................\n",
      "[CV]  C=10000000, epsilon=10, gamma=1e-06, kernel=rbf, score=0.8336418015192351, total=   0.5s\n",
      "[CV] C=10000000, epsilon=10, gamma=1e-05, kernel=rbf .................\n",
      "[CV]  C=10000000, epsilon=10, gamma=1e-05, kernel=rbf, score=0.8475312430990568, total=   0.7s\n",
      "[CV] C=10000000, epsilon=10, gamma=1e-05, kernel=rbf .................\n",
      "[CV]  C=10000000, epsilon=10, gamma=1e-05, kernel=rbf, score=0.7649728029445515, total=   0.6s\n",
      "[CV] C=10000000, epsilon=10, gamma=1e-05, kernel=rbf .................\n",
      "[CV]  C=10000000, epsilon=10, gamma=1e-05, kernel=rbf, score=0.8903768233452831, total=   0.7s\n",
      "[CV] C=10000000, epsilon=1000, gamma=1e-07, kernel=rbf ...............\n",
      "[CV]  C=10000000, epsilon=1000, gamma=1e-07, kernel=rbf, score=0.39098370819820305, total=   0.4s\n",
      "[CV] C=10000000, epsilon=1000, gamma=1e-07, kernel=rbf ...............\n",
      "[CV]  C=10000000, epsilon=1000, gamma=1e-07, kernel=rbf, score=0.347157954602452, total=   0.4s\n",
      "[CV] C=10000000, epsilon=1000, gamma=1e-07, kernel=rbf ...............\n",
      "[CV]  C=10000000, epsilon=1000, gamma=1e-07, kernel=rbf, score=0.38914720823528165, total=   0.4s\n",
      "[CV] C=10000000, epsilon=1000, gamma=1e-06, kernel=rbf ...............\n",
      "[CV]  C=10000000, epsilon=1000, gamma=1e-06, kernel=rbf, score=0.7972638040528469, total=   0.4s\n",
      "[CV] C=10000000, epsilon=1000, gamma=1e-06, kernel=rbf ...............\n",
      "[CV]  C=10000000, epsilon=1000, gamma=1e-06, kernel=rbf, score=0.7289972336022223, total=   0.4s\n",
      "[CV] C=10000000, epsilon=1000, gamma=1e-06, kernel=rbf ...............\n",
      "[CV]  C=10000000, epsilon=1000, gamma=1e-06, kernel=rbf, score=0.8337621423366334, total=   0.4s\n",
      "[CV] C=10000000, epsilon=1000, gamma=1e-05, kernel=rbf ...............\n",
      "[CV]  C=10000000, epsilon=1000, gamma=1e-05, kernel=rbf, score=0.8480204556922436, total=   0.5s\n",
      "[CV] C=10000000, epsilon=1000, gamma=1e-05, kernel=rbf ...............\n",
      "[CV]  C=10000000, epsilon=1000, gamma=1e-05, kernel=rbf, score=0.7653285092007206, total=   0.7s\n",
      "[CV] C=10000000, epsilon=1000, gamma=1e-05, kernel=rbf ...............\n",
      "[CV]  C=10000000, epsilon=1000, gamma=1e-05, kernel=rbf, score=0.8923222232578375, total=   0.7s\n",
      "[CV] C=10000000, epsilon=100000, gamma=1e-07, kernel=rbf .............\n",
      "[CV]  C=10000000, epsilon=100000, gamma=1e-07, kernel=rbf, score=0.08440226410068064, total=   0.1s\n",
      "[CV] C=10000000, epsilon=100000, gamma=1e-07, kernel=rbf .............\n",
      "[CV]  C=10000000, epsilon=100000, gamma=1e-07, kernel=rbf, score=0.07095853437515431, total=   0.1s\n",
      "[CV] C=10000000, epsilon=100000, gamma=1e-07, kernel=rbf .............\n",
      "[CV]  C=10000000, epsilon=100000, gamma=1e-07, kernel=rbf, score=0.047872443449628155, total=   0.1s\n",
      "[CV] C=10000000, epsilon=100000, gamma=1e-06, kernel=rbf .............\n",
      "[CV]  C=10000000, epsilon=100000, gamma=1e-06, kernel=rbf, score=0.24707049190862773, total=   0.0s\n",
      "[CV] C=10000000, epsilon=100000, gamma=1e-06, kernel=rbf .............\n",
      "[CV]  C=10000000, epsilon=100000, gamma=1e-06, kernel=rbf, score=0.24446310301479923, total=   0.0s\n",
      "[CV] C=10000000, epsilon=100000, gamma=1e-06, kernel=rbf .............\n",
      "[CV]  C=10000000, epsilon=100000, gamma=1e-06, kernel=rbf, score=0.2526634971515085, total=   0.0s\n",
      "[CV] C=10000000, epsilon=100000, gamma=1e-05, kernel=rbf .............\n",
      "[CV]  C=10000000, epsilon=100000, gamma=1e-05, kernel=rbf, score=0.3241452770130383, total=   0.0s\n",
      "[CV] C=10000000, epsilon=100000, gamma=1e-05, kernel=rbf .............\n",
      "[CV]  C=10000000, epsilon=100000, gamma=1e-05, kernel=rbf, score=0.35032407732917126, total=   0.0s\n",
      "[CV] C=10000000, epsilon=100000, gamma=1e-05, kernel=rbf .............\n",
      "[CV]  C=10000000, epsilon=100000, gamma=1e-05, kernel=rbf, score=0.3838535765548293, total=   0.0s\n",
      "[CV] C=100000000, epsilon=10, gamma=1e-07, kernel=rbf ................\n",
      "[CV]  C=100000000, epsilon=10, gamma=1e-07, kernel=rbf, score=0.7963922817623856, total=   0.4s\n",
      "[CV] C=100000000, epsilon=10, gamma=1e-07, kernel=rbf ................\n",
      "[CV]  C=100000000, epsilon=10, gamma=1e-07, kernel=rbf, score=0.7277944113468918, total=   0.5s\n",
      "[CV] C=100000000, epsilon=10, gamma=1e-07, kernel=rbf ................\n",
      "[CV]  C=100000000, epsilon=10, gamma=1e-07, kernel=rbf, score=0.8337089103187463, total=   0.4s\n",
      "[CV] C=100000000, epsilon=10, gamma=1e-06, kernel=rbf ................\n",
      "[CV]  C=100000000, epsilon=10, gamma=1e-06, kernel=rbf, score=0.8467378301712771, total=   0.5s\n",
      "[CV] C=100000000, epsilon=10, gamma=1e-06, kernel=rbf ................\n",
      "[CV]  C=100000000, epsilon=10, gamma=1e-06, kernel=rbf, score=0.7611778316918058, total=   0.6s\n",
      "[CV] C=100000000, epsilon=10, gamma=1e-06, kernel=rbf ................\n",
      "[CV]  C=100000000, epsilon=10, gamma=1e-06, kernel=rbf, score=0.8893416808660792, total=   0.7s\n",
      "[CV] C=100000000, epsilon=10, gamma=1e-05, kernel=rbf ................\n",
      "[CV]  C=100000000, epsilon=10, gamma=1e-05, kernel=rbf, score=0.8418052675361759, total=   2.4s\n",
      "[CV] C=100000000, epsilon=10, gamma=1e-05, kernel=rbf ................\n",
      "[CV]  C=100000000, epsilon=10, gamma=1e-05, kernel=rbf, score=0.7231246623788832, total=   2.3s\n",
      "[CV] C=100000000, epsilon=10, gamma=1e-05, kernel=rbf ................\n",
      "[CV]  C=100000000, epsilon=10, gamma=1e-05, kernel=rbf, score=0.89310214313108, total=   2.1s\n",
      "[CV] C=100000000, epsilon=1000, gamma=1e-07, kernel=rbf ..............\n",
      "[CV]  C=100000000, epsilon=1000, gamma=1e-07, kernel=rbf, score=0.7971806321546018, total=   0.4s\n",
      "[CV] C=100000000, epsilon=1000, gamma=1e-07, kernel=rbf ..............\n",
      "[CV]  C=100000000, epsilon=1000, gamma=1e-07, kernel=rbf, score=0.7288542009907265, total=   0.4s\n",
      "[CV] C=100000000, epsilon=1000, gamma=1e-07, kernel=rbf ..............\n",
      "[CV]  C=100000000, epsilon=1000, gamma=1e-07, kernel=rbf, score=0.833688726769395, total=   0.6s\n",
      "[CV] C=100000000, epsilon=1000, gamma=1e-06, kernel=rbf ..............\n",
      "[CV]  C=100000000, epsilon=1000, gamma=1e-06, kernel=rbf, score=0.8471143333007284, total=   0.5s\n",
      "[CV] C=100000000, epsilon=1000, gamma=1e-06, kernel=rbf ..............\n",
      "[CV]  C=100000000, epsilon=1000, gamma=1e-06, kernel=rbf, score=0.7617388330724975, total=   0.7s\n",
      "[CV] C=100000000, epsilon=1000, gamma=1e-06, kernel=rbf ..............\n",
      "[CV]  C=100000000, epsilon=1000, gamma=1e-06, kernel=rbf, score=0.8916220227148406, total=   1.1s\n",
      "[CV] C=100000000, epsilon=1000, gamma=1e-05, kernel=rbf ..............\n",
      "[CV]  C=100000000, epsilon=1000, gamma=1e-05, kernel=rbf, score=0.8428232797235896, total=   2.7s\n",
      "[CV] C=100000000, epsilon=1000, gamma=1e-05, kernel=rbf ..............\n",
      "[CV]  C=100000000, epsilon=1000, gamma=1e-05, kernel=rbf, score=0.7241183904552584, total=   3.6s\n",
      "[CV] C=100000000, epsilon=1000, gamma=1e-05, kernel=rbf ..............\n",
      "[CV]  C=100000000, epsilon=1000, gamma=1e-05, kernel=rbf, score=0.8948178775006869, total=   3.1s\n",
      "[CV] C=100000000, epsilon=100000, gamma=1e-07, kernel=rbf ............\n",
      "[CV]  C=100000000, epsilon=100000, gamma=1e-07, kernel=rbf, score=0.2469509046860825, total=   0.0s\n",
      "[CV] C=100000000, epsilon=100000, gamma=1e-07, kernel=rbf ............\n",
      "[CV]  C=100000000, epsilon=100000, gamma=1e-07, kernel=rbf, score=0.24440065076096207, total=   0.0s\n",
      "[CV] C=100000000, epsilon=100000, gamma=1e-07, kernel=rbf ............\n",
      "[CV]  C=100000000, epsilon=100000, gamma=1e-07, kernel=rbf, score=0.25261263001340084, total=   0.0s\n",
      "[CV] C=100000000, epsilon=100000, gamma=1e-06, kernel=rbf ............\n",
      "[CV]  C=100000000, epsilon=100000, gamma=1e-06, kernel=rbf, score=0.32352882072570976, total=   0.0s\n",
      "[CV] C=100000000, epsilon=100000, gamma=1e-06, kernel=rbf ............\n",
      "[CV]  C=100000000, epsilon=100000, gamma=1e-06, kernel=rbf, score=0.34920871184037183, total=   0.0s\n",
      "[CV] C=100000000, epsilon=100000, gamma=1e-06, kernel=rbf ............\n",
      "[CV]  C=100000000, epsilon=100000, gamma=1e-06, kernel=rbf, score=0.3844028335515996, total=   0.0s\n",
      "[CV] C=100000000, epsilon=100000, gamma=1e-05, kernel=rbf ............\n",
      "[CV]  C=100000000, epsilon=100000, gamma=1e-05, kernel=rbf, score=0.6765404593582289, total=   0.0s\n",
      "[CV] C=100000000, epsilon=100000, gamma=1e-05, kernel=rbf ............\n",
      "[CV]  C=100000000, epsilon=100000, gamma=1e-05, kernel=rbf, score=0.5946424707993194, total=   0.0s\n",
      "[CV] C=100000000, epsilon=100000, gamma=1e-05, kernel=rbf ............\n",
      "[CV]  C=100000000, epsilon=100000, gamma=1e-05, kernel=rbf, score=0.5865197767947797, total=   0.0s\n"
     ]
    },
    {
     "name": "stderr",
     "output_type": "stream",
     "text": [
      "[Parallel(n_jobs=1)]: Done  54 out of  54 | elapsed:   43.6s finished\n"
     ]
    },
    {
     "data": {
      "text/plain": [
       "GridSearchCV(cv=None, error_score='raise',\n",
       "       estimator=SVR(C=1.0, cache_size=200, coef0=0.0, degree=3, epsilon=0.1, gamma='auto',\n",
       "  kernel='rbf', max_iter=-1, shrinking=True, tol=0.001, verbose=False),\n",
       "       fit_params=None, iid=False, n_jobs=1,\n",
       "       param_grid={'C': [10000000, 100000000], 'kernel': ['rbf'], 'gamma': [1e-07, 1e-06, 1e-05], 'epsilon': [10, 1000, 100000]},\n",
       "       pre_dispatch='2*n_jobs', refit=True, return_train_score='warn',\n",
       "       scoring=None, verbose=4)"
      ]
     },
     "execution_count": 33,
     "metadata": {},
     "output_type": "execute_result"
    }
   ],
   "source": [
    "from sklearn.svm import SVR\n",
    "from sklearn.model_selection import GridSearchCV\n",
    "from sklearn.preprocessing import StandardScaler\n",
    "\n",
    "svr_param_dict = {'C': [10**n for n in range(7,9)], # 10,000,000 from a previous grid search\n",
    "                  'kernel': ['rbf'],\n",
    "                  'gamma': [10**n for n in range(-7, -4)],\n",
    "                  'epsilon': [10**n for n in range(1, 7, 2)]}\n",
    "\n",
    "ss = StandardScaler().fit(pandas.concat([x_train,\n",
    "                                         x_test,\n",
    "                                         df_test.drop('SalePrice', axis=1)]))\n",
    "gscv = GridSearchCV(estimator=SVR(),\n",
    "                    param_grid=svr_param_dict,\n",
    "                    verbose=4,\n",
    "                    iid=False)\n",
    "gscv.fit(ss.transform(x_train.values), y_train)"
   ]
  },
  {
   "cell_type": "code",
   "execution_count": 34,
   "metadata": {},
   "outputs": [
    {
     "name": "stdout",
     "output_type": "stream",
     "text": [
      "{'C': 10000000, 'epsilon': 1000, 'gamma': 1e-05, 'kernel': 'rbf'}\n",
      "0.8352237293836006\n"
     ]
    }
   ],
   "source": [
    "print(gscv.best_params_)\n",
    "print(gscv.best_score_)\n"
   ]
  },
  {
   "cell_type": "code",
   "execution_count": 35,
   "metadata": {},
   "outputs": [
    {
     "name": "stdout",
     "output_type": "stream",
     "text": [
      "0.1172111941809891 0.12437552001276797\n"
     ]
    }
   ],
   "source": [
    "svr = gscv.best_estimator_\n",
    "      \n",
    "print(rmsle(y_train, svr.predict(ss.transform(x_train.values))),\n",
    "      rmsle(y_test, svr.predict(ss.transform(x_test.values))))\n",
    "\n",
    "# The best SVR's predictions for test.csv\n",
    "svr_predictions = svr.predict(ss.transform(df_test.drop('SalePrice', axis=1).values))"
   ]
  },
  {
   "cell_type": "markdown",
   "metadata": {},
   "source": [
    "I never would have thought that 10,000,000 would be a valid value for C, the penalty parameter, yet only near that magnitude is the support vector regressor any good. For smaller C's, like the default of 1.0, the RMSLE was around 0.15 and 0.2.\n",
    "\n",
    "I wonder how good this SVR is at predicting the test.csv house prices..."
   ]
  },
  {
   "cell_type": "code",
   "execution_count": 36,
   "metadata": {},
   "outputs": [
    {
     "name": "stderr",
     "output_type": "stream",
     "text": [
      "/usr/local/lib/python3.6/site-packages/ipykernel_launcher.py:2: SettingWithCopyWarning: \n",
      "A value is trying to be set on a copy of a slice from a DataFrame.\n",
      "Try using .loc[row_indexer,col_indexer] = value instead\n",
      "\n",
      "See the caveats in the documentation: http://pandas.pydata.org/pandas-docs/stable/indexing.html#indexing-view-versus-copy\n",
      "  \n"
     ]
    }
   ],
   "source": [
    "svr_predictions = svr.predict(ss.transform(df_test.drop('SalePrice', axis=1).values))\n",
    "df_test['SalePrice'] = svr_predictions\n",
    "\n",
    "df_test[['Id', 'SalePrice']].to_csv('svr_pred.csv', \n",
    "                                    index=False)\n"
   ]
  },
  {
   "cell_type": "markdown",
   "metadata": {},
   "source": [
    "As it turns out, the SVR is overfitting, a lot: Kaggle gave it an RMSLE of 0.15064 on the public leaderboard. That's disappointing since its testing RMSLE is better than that of the random forest regressor. Though it is better overall, I wonder how its individual predictions compare to those of the random forest regressor. Also, I wonder if the average of the two regressors could provide some benefit."
   ]
  },
  {
   "cell_type": "code",
   "execution_count": 37,
   "metadata": {},
   "outputs": [
    {
     "data": {
      "text/plain": [
       "<Figure size 1200x800 with 1 Axes>"
      ]
     },
     "metadata": {},
     "output_type": "display_data"
    }
   ],
   "source": [
    "# Just to see if there is any systematic error, plot the predicted \n",
    "# prices on the x axis and actual prices on the y axis\n",
    "y_pred = svr.predict(ss.transform(x_test.values))\n",
    "#y_pred = rfr.predict(x_test.values)\n",
    "\n",
    "import matplotlib.pyplot as plt\n",
    "import matplotlib\n",
    "\n",
    "matplotlib.rcParams['font.size'] = 22\n",
    "\n",
    "fig, ax = plt.subplots(1, 1)\n",
    "fig.set_size_inches(12, 8)\n",
    "\n",
    "ax.set_title('Actual Price against Predicted Price')\n",
    "# svrs in red\n",
    "ax.scatter(y_pred, y_test, color='red', marker='x', \n",
    "           alpha=0.2, label='svr')\n",
    "\n",
    "# rfrs in blue\n",
    "ax.scatter(rfr.predict(x_test.values), y_test, marker='*',\n",
    "           color='blue', alpha=0.2, label='rfr')\n",
    "\n",
    "# average in black\n",
    "ax.scatter([(r+s)/2.0 for r, s in zip(rfr.predict(x_test.values), y_pred)],\n",
    "           y_test, marker='.',\n",
    "           color='black', alpha=0.7, label='average of 2')\n",
    "\n",
    "min_point = min([ min(y_test), min(y_pred)])\n",
    "max_point = max([ max(y_test), max(y_pred)])\n",
    "ax.plot([min_point, max_point], [min_point, max_point],\n",
    "        color='gray', linestyle='dashed', markersize=24,\n",
    "        alpha=0.4, label='y=x')\n",
    "\n",
    "ax.set_xlim(min(y_pred)-5000, max(y_pred+5000))\n",
    "ax.set_xlabel('Predicted House Price ($)')\n",
    "ax.set_ylabel('Actual House Price ($)')\n",
    "plt.legend()\n",
    "plt.show()"
   ]
  },
  {
   "cell_type": "code",
   "execution_count": 38,
   "metadata": {},
   "outputs": [
    {
     "data": {
      "image/png": "[encoded data removed]",
      "text/plain": [
       "<Figure size 864x576 with 1 Axes>"
      ]
     },
     "metadata": {},
     "output_type": "display_data"
    }
   ],
   "source": [
    "# Let's zoom in on the 50,000 to 300,000 range, the bulk of the prices\n",
    "\n",
    "fig, ax = plt.subplots(1, 1)\n",
    "fig.set_size_inches(12, 8)\n",
    "\n",
    "ax.set_title('Actual Price against Predicted Price ([50k, 300k])')\n",
    "# svrs in red\n",
    "ax.scatter(y_pred, y_test, color='red', marker='x', \n",
    "           alpha=0.2, label='svr')\n",
    "\n",
    "# rfrs in blue\n",
    "ax.scatter(rfr.predict(x_test.values), y_test, marker='*',\n",
    "           color='blue', alpha=0.2, label='rfr')\n",
    "\n",
    "# average in black\n",
    "ax.scatter([(r+s)/2.0 for r, s in zip(rfr.predict(x_test.values), y_pred)],\n",
    "           y_test, marker='.',\n",
    "           color='black', alpha=0.7, label='average of 2')\n",
    "\n",
    "min_point = min([ min(y_test), min(y_pred)])\n",
    "max_point = max([ max(y_test), max(y_pred)])\n",
    "ax.plot([50000, max_point], [50000, max_point],\n",
    "        color='gray', linestyle='dashed', markersize=24,\n",
    "        alpha=0.4, label='y=x')\n",
    "\n",
    "\n",
    "ax.set_xlim(50000, 300000)\n",
    "ax.set_ylim(50000, 400000)\n",
    "ax.set_xlabel('Predicted House Price ($)')\n",
    "ax.set_ylabel('Actual House Price ($)')\n",
    "plt.legend()\n",
    "plt.show()"
   ]
  },
  {
   "cell_type": "code",
   "execution_count": 39,
   "metadata": {},
   "outputs": [
    {
     "data": {
      "image/png": "[encoded data removed]",
      "text/plain": [
       "<Figure size 864x576 with 1 Axes>"
      ]
     },
     "metadata": {},
     "output_type": "display_data"
    }
   ],
   "source": [
    "# Now plot the residuals against some arbitrary variable, say, house square feet\n",
    "\n",
    "fig, ax = plt.subplots(1, 1)\n",
    "fig.set_size_inches(12, 8)\n",
    "# svrs in blue\n",
    "ax.scatter(x_test.LotArea, y_test - y_pred, color='red', marker='.',\n",
    "           alpha=0.2, label='svr')\n",
    "\n",
    "# rfrs in green\n",
    "ax.scatter(x_test.LotArea, y_test - rfr.predict(x_test.values), color='blue',\n",
    "           marker='*', alpha=0.2, label='rfr')\n",
    "\n",
    "# average\n",
    "ax.scatter(x_test.LotArea,\n",
    "           y_test - [(r+s)/2.0 for r, s in zip(rfr.predict(x_test.values), y_pred)],\n",
    "           marker='.',\n",
    "           color='black', alpha=0.7, label='average of 2')\n",
    "\n",
    "ax.axhline(y=0, color='gray', linestyle='dashed')\n",
    "ax.set_title('Residuals')\n",
    "ax.set_xlabel('House Altogether (sq. ft.)')\n",
    "ax.set_ylabel('Residual Price (actual - predicted)')\n",
    "ax.set_xlim(0, 25000)\n",
    "ax.set_ylim(-100000, 250000)\n",
    "plt.legend()\n",
    "plt.show()"
   ]
  },
  {
   "cell_type": "code",
   "execution_count": 40,
   "metadata": {},
   "outputs": [
    {
     "name": "stdout",
     "output_type": "stream",
     "text": [
      "Averaging SVR and RFR predictoins yields an RMSLE of 0.10246102533037348\n"
     ]
    }
   ],
   "source": [
    "print('Averaging SVR and RFR predictoins yields an RMSLE of {}'.format(rmsle(y_test, [(r+s)/2.0 for r,s in zip(rfr.predict(x_test.values), svr.predict(ss.transform(x_test.values)))])))"
   ]
  },
  {
   "cell_type": "code",
   "execution_count": 41,
   "metadata": {},
   "outputs": [
    {
     "name": "stderr",
     "output_type": "stream",
     "text": [
      "/usr/local/lib/python3.6/site-packages/ipykernel_launcher.py:3: SettingWithCopyWarning: \n",
      "A value is trying to be set on a copy of a slice from a DataFrame.\n",
      "Try using .loc[row_indexer,col_indexer] = value instead\n",
      "\n",
      "See the caveats in the documentation: http://pandas.pydata.org/pandas-docs/stable/indexing.html#indexing-view-versus-copy\n",
      "  This is separate from the ipykernel package so we can avoid doing imports until\n"
     ]
    }
   ],
   "source": [
    "# Submit, for each prediction, the average prediction of the SVR and the RFR\n",
    "df_test['SalePrice'] = [(r+s)/2.0 for r, s in zip(rfr.predict(df_test.drop('SalePrice', axis=1).values),\n",
    "                                                 svr.predict(ss.transform(df_test.drop('SalePrice', axis=1).values)))]\n",
    "\n",
    "df_test[['Id', 'SalePrice']].to_csv('svr_and_rfr_avgd_pred.csv', \n",
    "                                    index=False)"
   ]
  },
  {
   "cell_type": "code",
   "execution_count": 42,
   "metadata": {},
   "outputs": [
    {
     "name": "stderr",
     "output_type": "stream",
     "text": [
      "/usr/local/lib/python3.6/site-packages/ipykernel_launcher.py:2: SettingWithCopyWarning: \n",
      "A value is trying to be set on a copy of a slice from a DataFrame.\n",
      "Try using .loc[row_indexer,col_indexer] = value instead\n",
      "\n",
      "See the caveats in the documentation: http://pandas.pydata.org/pandas-docs/stable/indexing.html#indexing-view-versus-copy\n",
      "  \n",
      "/usr/local/lib/python3.6/site-packages/ipykernel_launcher.py:7: SettingWithCopyWarning: \n",
      "A value is trying to be set on a copy of a slice from a DataFrame.\n",
      "Try using .loc[row_indexer,col_indexer] = value instead\n",
      "\n",
      "See the caveats in the documentation: http://pandas.pydata.org/pandas-docs/stable/indexing.html#indexing-view-versus-copy\n",
      "  import sys\n"
     ]
    }
   ],
   "source": [
    "# Output SVR on its own for Kaggle submission\n",
    "df_test['SalePrice'] = rfr.predict(df_test.drop('SalePrice', axis=1).values)\n",
    "df_test[['Id', 'SalePrice']].to_csv('rfr_solo_pt126_pred.csv', \n",
    "                                    index=False)\n",
    "\n",
    "# Output SVR on its own for Kaggle submission\n",
    "df_test['SalePrice'] = svr.predict(ss.transform(df_test.drop('SalePrice', axis=1).values))\n",
    "df_test[['Id', 'SalePrice']].to_csv('svr_solo_pt109_pred.csv', \n",
    "                                    index=False)"
   ]
  },
  {
   "cell_type": "markdown",
   "metadata": {},
   "source": [
    "Very much to my surprise, taking the average of the random forest regressor (rfr) and the support vector regressor (svr) produced a significantly better model according to the Kaggle public leaderboards. The individual rfr scored an RMSLE of 0.14574, and the individual svr scored an RMSLE of 0.15064. Averaging their predictions, however, yielded an RMSLE of **0.13059!** This is a fantastic improvement: going from the best performing random forest: 0.144 at 2272nd place (of 4969 teams); to this average 0.13059 at 1554th place (of 4974 teams). Given that this model far exceeded expectations and that this model is currently placing in the top 32% of models (ahead of 68% of the best, other submitted models), this is the stopping point for this notebook."
   ]
  }
 ],
 "metadata": {
  "kernelspec": {
   "display_name": "Python 3",
   "language": "python",
   "name": "python3"
  },
  "language_info": {
   "codemirror_mode": {
    "name": "ipython",
    "version": 3
   },
   "file_extension": ".py",
   "mimetype": "text/x-python",
   "name": "python",
   "nbconvert_exporter": "python",
   "pygments_lexer": "ipython3",
   "version": "3.6.5"
  }
 },
 "nbformat": 4,
 "nbformat_minor": 2
}
