{
 "cells": [
  {
   "cell_type": "markdown",
   "metadata": {},
   "source": [
    "The MNIST dataset contains tens of thousands of 28px by 28px images of hand-written digits. Handwriting varies from person to person, so building a generalizable machine learning model that can very accurately identify hand written digits, which is the objective here, can be a bit of a challenge. \n",
    "\n",
    "On top of that, there is an issue with the sheer number of input variables: 28 \\* 28 = 784 input pixels. If a fully-connected neural network with an equal number of nodes in its first layer is utlilized to identify the digits, then there would be 784 inputs * 784 nodes = 614,656 weights to learn in just the first layer alone. This makes utilizing regular neural networks computationally expensive.\n",
    "\n",
    "Fortunately, there is an alternative: convolutional neural networks. Convolutional neural networks reduce the number of weights for a fully connected neural network by convolution and by pooling. Fairly good explanations of the two processes can be found in these two YouTube videos: https://youtu.be/NVH8EYPHi30 and https://youtu.be/umGJ30-15_A. The rough idea is that this by convolution and pooling, patches of the image are summarized. What goes into a summary is something the is learned by the network itself. By summarizing, the image is, in a way, \"compressed.\" The \"compressed\" image is then fed into some classification algorithm (typically a regular neural network) that does the actual classification. \n",
    "\n",
    "There are many kinds of convolutional neural networks, especially those geared towards accurately identifying MNSIT digits. However, the classic version will be utilized here given that this is my first serious look at machine learning for identifying things in images. The network in this notebook will be based off of the ones found here: https://github.com/keras-team/keras/blob/master/examples/mnist_cnn.py and https://blog.keras.io/building-powerful-image-classification-models-using-very-little-data.html. "
   ]
  },
  {
   "cell_type": "code",
   "execution_count": 1,
   "metadata": {},
   "outputs": [],
   "source": [
    "import pandas\n",
    "import numpy as np\n",
    "\n",
    "train = pandas.read_csv('train.csv')\n",
    "test = pandas.read_csv('test.csv')"
   ]
  },
  {
   "cell_type": "code",
   "execution_count": 2,
   "metadata": {},
   "outputs": [
    {
     "data": {
      "text/html": [
       "<div>\n",
       "<style scoped>\n",
       "    .dataframe tbody tr th:only-of-type {\n",
       "        vertical-align: middle;\n",
       "    }\n",
       "\n",
       "    .dataframe tbody tr th {\n",
       "        vertical-align: top;\n",
       "    }\n",
       "\n",
       "    .dataframe thead th {\n",
       "        text-align: right;\n",
       "    }\n",
       "</style>\n",
       "<table border=\"1\" class=\"dataframe\">\n",
       "  <thead>\n",
       "    <tr style=\"text-align: right;\">\n",
       "      <th></th>\n",
       "      <th>label</th>\n",
       "      <th>pixel0</th>\n",
       "      <th>pixel1</th>\n",
       "      <th>pixel2</th>\n",
       "      <th>pixel3</th>\n",
       "      <th>pixel4</th>\n",
       "      <th>pixel5</th>\n",
       "      <th>pixel6</th>\n",
       "      <th>pixel7</th>\n",
       "      <th>pixel8</th>\n",
       "      <th>...</th>\n",
       "      <th>pixel774</th>\n",
       "      <th>pixel775</th>\n",
       "      <th>pixel776</th>\n",
       "      <th>pixel777</th>\n",
       "      <th>pixel778</th>\n",
       "      <th>pixel779</th>\n",
       "      <th>pixel780</th>\n",
       "      <th>pixel781</th>\n",
       "      <th>pixel782</th>\n",
       "      <th>pixel783</th>\n",
       "    </tr>\n",
       "  </thead>\n",
       "  <tbody>\n",
       "    <tr>\n",
       "      <th>1386</th>\n",
       "      <td>9</td>\n",
       "      <td>0</td>\n",
       "      <td>0</td>\n",
       "      <td>0</td>\n",
       "      <td>0</td>\n",
       "      <td>0</td>\n",
       "      <td>0</td>\n",
       "      <td>0</td>\n",
       "      <td>0</td>\n",
       "      <td>0</td>\n",
       "      <td>...</td>\n",
       "      <td>0</td>\n",
       "      <td>0</td>\n",
       "      <td>0</td>\n",
       "      <td>0</td>\n",
       "      <td>0</td>\n",
       "      <td>0</td>\n",
       "      <td>0</td>\n",
       "      <td>0</td>\n",
       "      <td>0</td>\n",
       "      <td>0</td>\n",
       "    </tr>\n",
       "    <tr>\n",
       "      <th>21322</th>\n",
       "      <td>5</td>\n",
       "      <td>0</td>\n",
       "      <td>0</td>\n",
       "      <td>0</td>\n",
       "      <td>0</td>\n",
       "      <td>0</td>\n",
       "      <td>0</td>\n",
       "      <td>0</td>\n",
       "      <td>0</td>\n",
       "      <td>0</td>\n",
       "      <td>...</td>\n",
       "      <td>0</td>\n",
       "      <td>0</td>\n",
       "      <td>0</td>\n",
       "      <td>0</td>\n",
       "      <td>0</td>\n",
       "      <td>0</td>\n",
       "      <td>0</td>\n",
       "      <td>0</td>\n",
       "      <td>0</td>\n",
       "      <td>0</td>\n",
       "    </tr>\n",
       "    <tr>\n",
       "      <th>17842</th>\n",
       "      <td>2</td>\n",
       "      <td>0</td>\n",
       "      <td>0</td>\n",
       "      <td>0</td>\n",
       "      <td>0</td>\n",
       "      <td>0</td>\n",
       "      <td>0</td>\n",
       "      <td>0</td>\n",
       "      <td>0</td>\n",
       "      <td>0</td>\n",
       "      <td>...</td>\n",
       "      <td>0</td>\n",
       "      <td>0</td>\n",
       "      <td>0</td>\n",
       "      <td>0</td>\n",
       "      <td>0</td>\n",
       "      <td>0</td>\n",
       "      <td>0</td>\n",
       "      <td>0</td>\n",
       "      <td>0</td>\n",
       "      <td>0</td>\n",
       "    </tr>\n",
       "    <tr>\n",
       "      <th>27557</th>\n",
       "      <td>1</td>\n",
       "      <td>0</td>\n",
       "      <td>0</td>\n",
       "      <td>0</td>\n",
       "      <td>0</td>\n",
       "      <td>0</td>\n",
       "      <td>0</td>\n",
       "      <td>0</td>\n",
       "      <td>0</td>\n",
       "      <td>0</td>\n",
       "      <td>...</td>\n",
       "      <td>0</td>\n",
       "      <td>0</td>\n",
       "      <td>0</td>\n",
       "      <td>0</td>\n",
       "      <td>0</td>\n",
       "      <td>0</td>\n",
       "      <td>0</td>\n",
       "      <td>0</td>\n",
       "      <td>0</td>\n",
       "      <td>0</td>\n",
       "    </tr>\n",
       "    <tr>\n",
       "      <th>31601</th>\n",
       "      <td>2</td>\n",
       "      <td>0</td>\n",
       "      <td>0</td>\n",
       "      <td>0</td>\n",
       "      <td>0</td>\n",
       "      <td>0</td>\n",
       "      <td>0</td>\n",
       "      <td>0</td>\n",
       "      <td>0</td>\n",
       "      <td>0</td>\n",
       "      <td>...</td>\n",
       "      <td>0</td>\n",
       "      <td>0</td>\n",
       "      <td>0</td>\n",
       "      <td>0</td>\n",
       "      <td>0</td>\n",
       "      <td>0</td>\n",
       "      <td>0</td>\n",
       "      <td>0</td>\n",
       "      <td>0</td>\n",
       "      <td>0</td>\n",
       "    </tr>\n",
       "  </tbody>\n",
       "</table>\n",
       "<p>5 rows × 785 columns</p>\n",
       "</div>"
      ],
      "text/plain": [
       "       label  pixel0  pixel1  pixel2  pixel3  pixel4  pixel5  pixel6  pixel7  \\\n",
       "1386       9       0       0       0       0       0       0       0       0   \n",
       "21322      5       0       0       0       0       0       0       0       0   \n",
       "17842      2       0       0       0       0       0       0       0       0   \n",
       "27557      1       0       0       0       0       0       0       0       0   \n",
       "31601      2       0       0       0       0       0       0       0       0   \n",
       "\n",
       "       pixel8    ...     pixel774  pixel775  pixel776  pixel777  pixel778  \\\n",
       "1386        0    ...            0         0         0         0         0   \n",
       "21322       0    ...            0         0         0         0         0   \n",
       "17842       0    ...            0         0         0         0         0   \n",
       "27557       0    ...            0         0         0         0         0   \n",
       "31601       0    ...            0         0         0         0         0   \n",
       "\n",
       "       pixel779  pixel780  pixel781  pixel782  pixel783  \n",
       "1386          0         0         0         0         0  \n",
       "21322         0         0         0         0         0  \n",
       "17842         0         0         0         0         0  \n",
       "27557         0         0         0         0         0  \n",
       "31601         0         0         0         0         0  \n",
       "\n",
       "[5 rows x 785 columns]"
      ]
     },
     "execution_count": 2,
     "metadata": {},
     "output_type": "execute_result"
    }
   ],
   "source": [
    "train.sample(n=5)"
   ]
  },
  {
   "cell_type": "markdown",
   "metadata": {},
   "source": [
    "Just out of curiosity, I wonder what the handwritten digits look like."
   ]
  },
  {
   "cell_type": "code",
   "execution_count": 3,
   "metadata": {},
   "outputs": [
    {
     "data": {
      "image/png": "[encoded data removed]",
      "text/plain": [
       "<PIL.Image.Image image mode=L size=28x28 at 0x111F25400>"
      ]
     },
     "metadata": {},
     "output_type": "display_data"
    },
    {
     "data": {
      "image/png": "[encoded data removed]",
      "text/plain": [
       "<PIL.Image.Image image mode=L size=28x28 at 0x111F25470>"
      ]
     },
     "metadata": {},
     "output_type": "display_data"
    },
    {
     "data": {
      "image/png": "[encoded data removed]",
      "text/plain": [
       "<PIL.Image.Image image mode=L size=28x28 at 0x10D27CB38>"
      ]
     },
     "metadata": {},
     "output_type": "display_data"
    },
    {
     "data": {
      "image/png": "[encoded data removed]",
      "text/plain": [
       "<PIL.Image.Image image mode=L size=28x28 at 0x10D27CB38>"
      ]
     },
     "metadata": {},
     "output_type": "display_data"
    },
    {
     "data": {
      "image/png": "[encoded data removed]",
      "text/plain": [
       "<PIL.Image.Image image mode=L size=28x28 at 0x10D27CB38>"
      ]
     },
     "metadata": {},
     "output_type": "display_data"
    },
    {
     "data": {
      "image/png": "[encoded data removed]",
      "text/plain": [
       "<PIL.Image.Image image mode=L size=28x28 at 0x10D27CB38>"
      ]
     },
     "metadata": {},
     "output_type": "display_data"
    },
    {
     "data": {
      "image/png": "[encoded data removed]",
      "text/plain": [
       "<PIL.Image.Image image mode=L size=28x28 at 0x10D27CB38>"
      ]
     },
     "metadata": {},
     "output_type": "display_data"
    },
    {
     "data": {
      "image/png": "[encoded data removed]",
      "text/plain": [
       "<PIL.Image.Image image mode=L size=28x28 at 0x10D27CB38>"
      ]
     },
     "metadata": {},
     "output_type": "display_data"
    },
    {
     "data": {
      "image/png": "[encoded data removed]",
      "text/plain": [
       "<PIL.Image.Image image mode=L size=28x28 at 0x10D27CB38>"
      ]
     },
     "metadata": {},
     "output_type": "display_data"
    },
    {
     "data": {
      "image/png": "[encoded data removed]",
      "text/plain": [
       "<PIL.Image.Image image mode=L size=28x28 at 0x10D27CEB8>"
      ]
     },
     "metadata": {},
     "output_type": "display_data"
    }
   ],
   "source": [
    "# Helped: https://stackoverflow.com/questions/2659312/how-do-i-convert-a-numpy-array-to-and-display-an-image\n",
    "from PIL import Image\n",
    "\n",
    "def display_mnist_digit(digit_array):\n",
    "    \"\"\"\n",
    "    Display the digit in the MNIST data set.\n",
    "    \n",
    "    :param digit_array: 1D numpy array of the data\n",
    "    \"\"\"\n",
    "    image_array = digit_array.astype(np.uint8)\n",
    "    img = Image.fromarray(image_array.reshape(28, 28))\n",
    "\n",
    "    display(img)\n",
    "    \n",
    "num_image_to_display = 10\n",
    "for idx in range(222, 222+num_image_to_display):\n",
    "    display_mnist_digit(train.drop('label', axis=1).iloc[idx].values)"
   ]
  },
  {
   "cell_type": "markdown",
   "metadata": {},
   "source": [
    "The plan is to learn how to use a convolution neural network (CNN); however, I first want to use a regular, fully connected neural network (a multilayer perceptron). Hopefully it will give us a baseline by which the CNN can be judged. "
   ]
  },
  {
   "cell_type": "code",
   "execution_count": 4,
   "metadata": {},
   "outputs": [
    {
     "data": {
      "text/plain": [
       "0.9594444444444444"
      ]
     },
     "execution_count": 4,
     "metadata": {},
     "output_type": "execute_result"
    }
   ],
   "source": [
    "from sklearn.neural_network import MLPClassifier\n",
    "from sklearn.model_selection import train_test_split\n",
    "from sklearn.metrics import accuracy_score\n",
    "\n",
    "x_train, x_test, y_train, y_test = train_test_split(train.drop('label', axis=1),\n",
    "                                                    train['label'], \n",
    "                                                    test_size=0.25)\n",
    "\n",
    "mlpc = MLPClassifier(hidden_layer_sizes=[1400]) #1400 nodes\n",
    "\n",
    "mlpc.fit(x_train, y_train)\n",
    "\n",
    "accuracy_score(y_test, mlpc.predict(x_test))"
   ]
  },
  {
   "cell_type": "markdown",
   "metadata": {},
   "source": [
    "That's actually not an absolutely terrible baseline. If this accuracy score is accurate, then this model would place at about 2153rd place out of 2646 teams: ahead of about 20% of the all models. Again, though, this is just a baseline; the goal is to build a CNN to classify images.\n",
    "\n",
    "The images are currently represented as 1D arrays but a CNN, typically, expects a 2D array. The reason for this has to do with the convolution part in the covolutional neural network. The actual process of convolution is covered well in these two YouTube videos: https://youtu.be/NVH8EYPHi30 and https://youtu.be/umGJ30-15_A. The basic idea is that convolution takes advantage of spatial relationships (pixels near each other are probably related) and sort of summarizes patches of an image.\n",
    "\n",
    "Let's convert the images into 2D arrays. This will, inevitably, take up more memory: at least 1 bytes per 8-bit int * 784 pixels per image * 42,000 images = 32,928,000 or 32.928MB. The alternative, however, is to do this conversion as part of a pipeline, which, if the pipeline is run more than once, would not be efficient speed-wise, only memory-wise. \n",
    "\n",
    "The 32.928MB number, at least on my machine with 4GB of RAM, is not too large. For other data sets with hundreds of thousands of images that each have millions of pixels (real world data sets), converting everything at once would be more difficult. For example, a data set with 100,000 black-and-white images each with 1280 * 720 pixels (a 720p image) would be at least 92,160,000,000 bytes or 92.16 GB. \n",
    "\n",
    "Therefore, by converting to and then saving 2D representations of the mnist digit images for the CNN once at the start, we can tune the CNN later without having to redo this conversion and without trading-off all of our RAM/memory."
   ]
  },
  {
   "cell_type": "code",
   "execution_count": 5,
   "metadata": {},
   "outputs": [
    {
     "name": "stdout",
     "output_type": "stream",
     "text": [
      "Successful dummy encoding?: True.\n",
      "Index(['label_0', 'label_1', 'label_2', 'label_3', 'label_4', 'label_5',\n",
      "       'label_6', 'label_7', 'label_8', 'label_9'],\n",
      "      dtype='object')\n"
     ]
    }
   ],
   "source": [
    "# 4D array because \n",
    "# 1st dim = image index\n",
    "# 2nd and 3rd dims = width and height (column and row coordinates of a pixel in an image)\n",
    "# 4th dim = channel(s) (RGB or luminance if only gray scale)\n",
    "# shape: https://github.com/keras-team/keras/blob/master/examples/mnist_cnn.py\n",
    "x = train.drop('label', axis=1).values.reshape(train.shape[0], 28, 28, 1)\n",
    "y = train['label']\n",
    "\n",
    "# Want to be able to use categorical cross entropy as a loss\n",
    "# measurement, which requires dummy encoding train columns\n",
    "y_binary = pandas.get_dummies(pandas.DataFrame([str(label) for label in y],\n",
    "                                               columns=['label']))\n",
    "\n",
    "# put columns in sorted order (0 at lowest idx; 9 at highest idx)\n",
    "y_binary = y_binary[ sorted(y_binary.columns) ]\n",
    "\n",
    "print('Successful dummy encoding?: {}.'.format(y_binary.shape[1]==10))\n",
    "print(y_binary.columns)"
   ]
  },
  {
   "cell_type": "code",
   "execution_count": 6,
   "metadata": {},
   "outputs": [],
   "source": [
    "from sklearn.model_selection import train_test_split\n",
    "\n",
    "x_train, x_val, y_train, y_val = train_test_split(x,\n",
    "                                                  y_binary,\n",
    "                                                  test_size=0.25)"
   ]
  },
  {
   "cell_type": "markdown",
   "metadata": {},
   "source": [
    "The standard convolutional neural network has two parts. The first part contains a convolutional layer, then an activation layer (like the rectified linear unit (ReLU) that is max{0, x}), and then a pooling layer (like a max pooling layer that keeps only the max value in a patch of convoluted pixels) to reduce dimensionality. This set, convolution then activation then pooling, can be repeated multiple times.\n",
    "\n",
    "In the second section, the final pooling outputs are fed into a fully connected network that actually makes the classification. The first part can be though of as extracting spatial features while the second part can be though of as taking those features and making some classification. This model will draw upon: https://github.com/keras-team/keras/blob/master/examples/mnist_cnn.py."
   ]
  },
  {
   "cell_type": "code",
   "execution_count": 7,
   "metadata": {},
   "outputs": [
    {
     "name": "stderr",
     "output_type": "stream",
     "text": [
      "Using TensorFlow backend.\n"
     ]
    },
    {
     "name": "stdout",
     "output_type": "stream",
     "text": [
      "Epoch 1/15\n",
      "39900/39900 [==============================] - 434s 11ms/step - loss: 1.4987 - categorical_accuracy: 0.1945\n",
      "Epoch 2/15\n",
      "39900/39900 [==============================] - 481s 12ms/step - loss: 1.1106 - categorical_accuracy: 0.3434\n",
      "Epoch 3/15\n",
      "39900/39900 [==============================] - 490s 12ms/step - loss: 0.0294 - categorical_accuracy: 0.9587\n",
      "Epoch 4/15\n",
      "39900/39900 [==============================] - 477s 12ms/step - loss: 0.0148 - categorical_accuracy: 0.9801\n",
      "Epoch 5/15\n",
      "39900/39900 [==============================] - 495s 12ms/step - loss: 0.0109 - categorical_accuracy: 0.9852\n",
      "Epoch 6/15\n",
      "39900/39900 [==============================] - 467s 12ms/step - loss: 0.0085 - categorical_accuracy: 0.9895\n",
      "Epoch 7/15\n",
      "39900/39900 [==============================] - 471s 12ms/step - loss: 0.0072 - categorical_accuracy: 0.9907\n",
      "Epoch 8/15\n",
      "39900/39900 [==============================] - 483s 12ms/step - loss: 0.0061 - categorical_accuracy: 0.9927\n",
      "Epoch 9/15\n",
      "39900/39900 [==============================] - 517s 13ms/step - loss: 0.0052 - categorical_accuracy: 0.9936\n",
      "Epoch 10/15\n",
      "39900/39900 [==============================] - 512s 13ms/step - loss: 0.0043 - categorical_accuracy: 0.9949\n",
      "Epoch 11/15\n",
      "39900/39900 [==============================] - 474s 12ms/step - loss: 0.0038 - categorical_accuracy: 0.9956\n",
      "Epoch 12/15\n",
      "39900/39900 [==============================] - 497s 12ms/step - loss: 0.0035 - categorical_accuracy: 0.9961\n",
      "Epoch 13/15\n",
      "39900/39900 [==============================] - 495s 12ms/step - loss: 0.0033 - categorical_accuracy: 0.9962\n",
      "Epoch 14/15\n",
      "39900/39900 [==============================] - 531s 13ms/step - loss: 0.0030 - categorical_accuracy: 0.9968\n",
      "Epoch 15/15\n",
      "39900/39900 [==============================] - 490s 12ms/step - loss: 0.0027 - categorical_accuracy: 0.9971\n"
     ]
    },
    {
     "data": {
      "text/plain": [
       "<keras.callbacks.History at 0x158b26748>"
      ]
     },
     "execution_count": 7,
     "metadata": {},
     "output_type": "execute_result"
    }
   ],
   "source": [
    "from keras.models import Sequential\n",
    "from keras.layers import Conv2D, MaxPooling2D\n",
    "from keras.layers import Activation, Dropout, Flatten, Dense\n",
    "\n",
    "model = Sequential()\n",
    "\n",
    "# PART 1\n",
    "# CONVOLUTION LAYER 1\n",
    "model.add(Conv2D(96, \n",
    "                 kernel_size=(4,4),  # convolution window size: hxw\n",
    "                 strides = (1,1), # how far move window after each convolution\n",
    "                 input_shape=(28, 28, 1), # image w, image h, num channels/colors\n",
    "                 data_format=\"channels_last\") # channel=colors (RGB or luminance)\n",
    "         )\n",
    "model.add(Activation('relu')) # rectified linear unit\n",
    "# model.add(MaxPooling2D(pool_size=(2,2))) # 2x2 patches become 1x1's \n",
    "\n",
    "# CONVOLUTION LAYER 2\n",
    "model.add(Conv2D(160, kernel_size=(3,3), strides=(1,1)))\n",
    "model.add(Activation('relu')) # rectified linear unit\n",
    "model.add(MaxPooling2D(pool_size=(2,2))) # 2x2 patches become 1x1's \n",
    "model.add(Dropout(0.28)) # rand set frac of inputs to 0 - improve generalizability\n",
    "\n",
    "# CONVOLUTION LAYER 3\n",
    "model.add(Conv2D(96, kernel_size=(2,2), strides=(1,1)))\n",
    "model.add(Activation('relu'))\n",
    "\n",
    "\n",
    "# PART 2\n",
    "# FULLY CONNECTED\n",
    "# now take output from convolution nn and feed it into  fully connected nn\n",
    "model.add(Flatten()) # not lose spatial info since \"encoded\" via convolution?\n",
    "model.add(Dense(128))\n",
    "model.add(Activation('relu'))\n",
    "model.add(Dropout(0.28)) # rand set frac of inputs to 0 - improve generalizability\n",
    "\n",
    "model.add(Dense(10)) # 10 output nodes, 1 for each number\n",
    "model.add(Activation('sigmoid'))\n",
    "\n",
    "\n",
    "# Be careful with loss and metrics; accuracy =/=> categorical accuracy: \n",
    "# https://stackoverflow.com/questions/41327601/why-is-binary-crossentropy-more-accurate-than-categorical-crossentropy-for-multi\n",
    "# model.compile(loss='categorical_crossentropy',\n",
    "#               optimizer='rmsprop',\n",
    "#               metrics=['accuracy'],)\n",
    "\n",
    "model.compile(loss='binary_crossentropy',\n",
    "              optimizer='adam',\n",
    "              metrics=['categorical_accuracy'],)\n",
    "\n",
    "model.fit(x_train, y_train, epochs=15, batch_size=256)\n"
   ]
  },
  {
   "cell_type": "markdown",
   "metadata": {},
   "source": [
    "#### Reasoning behind some of the modeling decisions\n",
    "\n",
    "+ Square convolution window: the image itself is square. Non-square windows were tried since numbers are more rectangular in shape, but square windows still performed better.\n",
    "\n",
    "+ binary_cross_entropy & categorical accuracy: easier to treat this as a multiclass classification problem instead of a regression problem given small number of discrete digits.\n",
    "\n",
    "+ adam: this optimizer is fairly fast, requires little to no tuning, and in my limited experience, achieves results comparable to those of other optimizers (SGD, nadam, etc.).\n",
    "\n",
    "+ dropouts: dropout serves as a sort of regularization term. It seems counterintuitive to want to randomly set some activiation values to 0, but it is a little like adding randomness for which the model has to account. Overall, it does seem to help reduce overfitting.\n",
    "\n",
    "+ commented out 1st pooling layer: improved accuracy, which makes sense pooling is more of a dimensionality reduction tool rather than a feature extraction technique like convolution.\n"
   ]
  },
  {
   "cell_type": "markdown",
   "metadata": {},
   "source": [
    "This is very promising! Let's see how it performs on some testing data.\n",
    "\n",
    "*Note, the above model is not the first one tried; it has been tuned."
   ]
  },
  {
   "cell_type": "code",
   "execution_count": 79,
   "metadata": {},
   "outputs": [],
   "source": [
    "# Argmax idea from: https://github.com/keras-team/keras/issues/2524\n",
    "\n",
    "def categorical_accuracy_calc(y_actual, y_predicted):\n",
    "    correct_classifications = 0 \n",
    "    \n",
    "    for actual, predicted in zip(y_actual, y_predicted):\n",
    "        correct_classifications += (np.argmax(actual) == np.argmax(predicted))\n",
    "        \n",
    "    return correct_classifications / float(len(y_predicted))"
   ]
  },
  {
   "cell_type": "code",
   "execution_count": 80,
   "metadata": {},
   "outputs": [
    {
     "name": "stdout",
     "output_type": "stream",
     "text": [
      "CNN is 97.14286% accurate on validation data.\n"
     ]
    }
   ],
   "source": [
    "val_predictions = model.predict(x_val)\n",
    "acc = categorical_accuracy_calc(y_val.values, val_predictions)\n",
    "print('CNN is {0:.5f}% accurate on validation data.'.format(acc*100))\n"
   ]
  },
  {
   "cell_type": "markdown",
   "metadata": {},
   "source": [
    "Let's see what digits the CNN misclassified and what the images look like."
   ]
  },
  {
   "cell_type": "code",
   "execution_count": 78,
   "metadata": {},
   "outputs": [
    {
     "data": {
      "image/png": "[encoded data removed]",
      "text/plain": [
       "<PIL.Image.Image image mode=L size=28x28 at 0x1662BA7F0>"
      ]
     },
     "metadata": {},
     "output_type": "display_data"
    },
    {
     "name": "stdout",
     "output_type": "stream",
     "text": [
      "actual:9 \t\t predicted: 5\n"
     ]
    },
    {
     "data": {
      "image/png": "[encoded data removed]",
      "text/plain": [
       "<PIL.Image.Image image mode=L size=28x28 at 0x1662BA898>"
      ]
     },
     "metadata": {},
     "output_type": "display_data"
    },
    {
     "name": "stdout",
     "output_type": "stream",
     "text": [
      "actual:6 \t\t predicted: 4\n"
     ]
    },
    {
     "data": {
      "image/png": "[encoded data removed]",
      "text/plain": [
       "<PIL.Image.Image image mode=L size=28x28 at 0x1662BA780>"
      ]
     },
     "metadata": {},
     "output_type": "display_data"
    },
    {
     "name": "stdout",
     "output_type": "stream",
     "text": [
      "actual:1 \t\t predicted: 4\n"
     ]
    },
    {
     "data": {
      "image/png": "[encoded data removed]",
      "text/plain": [
       "<PIL.Image.Image image mode=L size=28x28 at 0x1662BA8D0>"
      ]
     },
     "metadata": {},
     "output_type": "display_data"
    },
    {
     "name": "stdout",
     "output_type": "stream",
     "text": [
      "actual:2 \t\t predicted: 1\n"
     ]
    },
    {
     "data": {
      "image/png": "[encoded data removed]",
      "text/plain": [
       "<PIL.Image.Image image mode=L size=28x28 at 0x1662BA860>"
      ]
     },
     "metadata": {},
     "output_type": "display_data"
    },
    {
     "name": "stdout",
     "output_type": "stream",
     "text": [
      "actual:4 \t\t predicted: 1\n"
     ]
    },
    {
     "data": {
      "image/png": "[encoded data removed]",
      "text/plain": [
       "<PIL.Image.Image image mode=L size=28x28 at 0x1662BA780>"
      ]
     },
     "metadata": {},
     "output_type": "display_data"
    },
    {
     "name": "stdout",
     "output_type": "stream",
     "text": [
      "actual:9 \t\t predicted: 7\n"
     ]
    },
    {
     "data": {
      "image/png": "[encoded data removed]",
      "text/plain": [
       "<PIL.Image.Image image mode=L size=28x28 at 0x1662BA828>"
      ]
     },
     "metadata": {},
     "output_type": "display_data"
    },
    {
     "name": "stdout",
     "output_type": "stream",
     "text": [
      "actual:9 \t\t predicted: 5\n"
     ]
    },
    {
     "data": {
      "image/png": "[encoded data removed]",
      "text/plain": [
       "<PIL.Image.Image image mode=L size=28x28 at 0x1662BA908>"
      ]
     },
     "metadata": {},
     "output_type": "display_data"
    },
    {
     "name": "stdout",
     "output_type": "stream",
     "text": [
      "actual:2 \t\t predicted: 4\n"
     ]
    },
    {
     "data": {
      "image/png": "[encoded data removed]",
      "text/plain": [
       "<PIL.Image.Image image mode=L size=28x28 at 0x1662BA828>"
      ]
     },
     "metadata": {},
     "output_type": "display_data"
    },
    {
     "name": "stdout",
     "output_type": "stream",
     "text": [
      "actual:8 \t\t predicted: 3\n"
     ]
    },
    {
     "data": {
      "image/png": "[encoded data removed]",
      "text/plain": [
       "<PIL.Image.Image image mode=L size=28x28 at 0x1662BA8D0>"
      ]
     },
     "metadata": {},
     "output_type": "display_data"
    },
    {
     "name": "stdout",
     "output_type": "stream",
     "text": [
      "actual:7 \t\t predicted: 0\n"
     ]
    },
    {
     "data": {
      "image/png": "[encoded data removed]",
      "text/plain": [
       "<PIL.Image.Image image mode=L size=28x28 at 0x1662BA7F0>"
      ]
     },
     "metadata": {},
     "output_type": "display_data"
    },
    {
     "name": "stdout",
     "output_type": "stream",
     "text": [
      "actual:3 \t\t predicted: 5\n"
     ]
    },
    {
     "data": {
      "image/png": "[encoded data removed]",
      "text/plain": [
       "<PIL.Image.Image image mode=L size=28x28 at 0x1662BA7B8>"
      ]
     },
     "metadata": {},
     "output_type": "display_data"
    },
    {
     "name": "stdout",
     "output_type": "stream",
     "text": [
      "actual:5 \t\t predicted: 3\n"
     ]
    },
    {
     "data": {
      "image/png": "[encoded data removed]",
      "text/plain": [
       "<PIL.Image.Image image mode=L size=28x28 at 0x1662BA908>"
      ]
     },
     "metadata": {},
     "output_type": "display_data"
    },
    {
     "name": "stdout",
     "output_type": "stream",
     "text": [
      "actual:0 \t\t predicted: 9\n"
     ]
    },
    {
     "data": {
      "image/png": "[encoded data removed]",
      "text/plain": [
       "<PIL.Image.Image image mode=L size=28x28 at 0x1662BA780>"
      ]
     },
     "metadata": {},
     "output_type": "display_data"
    },
    {
     "name": "stdout",
     "output_type": "stream",
     "text": [
      "actual:0 \t\t predicted: 6\n"
     ]
    },
    {
     "data": {
      "image/png": "[encoded data removed]",
      "text/plain": [
       "<PIL.Image.Image image mode=L size=28x28 at 0x1662BA828>"
      ]
     },
     "metadata": {},
     "output_type": "display_data"
    },
    {
     "name": "stdout",
     "output_type": "stream",
     "text": [
      "actual:8 \t\t predicted: 0\n"
     ]
    },
    {
     "data": {
      "image/png": "[encoded data removed]",
      "text/plain": [
       "<PIL.Image.Image image mode=L size=28x28 at 0x1662BA780>"
      ]
     },
     "metadata": {},
     "output_type": "display_data"
    },
    {
     "name": "stdout",
     "output_type": "stream",
     "text": [
      "actual:2 \t\t predicted: 1\n"
     ]
    },
    {
     "data": {
      "image/png": "[encoded data removed]",
      "text/plain": [
       "<PIL.Image.Image image mode=L size=28x28 at 0x1662BA908>"
      ]
     },
     "metadata": {},
     "output_type": "display_data"
    },
    {
     "name": "stdout",
     "output_type": "stream",
     "text": [
      "actual:9 \t\t predicted: 7\n"
     ]
    },
    {
     "data": {
      "image/png": "[encoded data removed]",
      "text/plain": [
       "<PIL.Image.Image image mode=L size=28x28 at 0x1662BA898>"
      ]
     },
     "metadata": {},
     "output_type": "display_data"
    },
    {
     "name": "stdout",
     "output_type": "stream",
     "text": [
      "actual:5 \t\t predicted: 6\n"
     ]
    },
    {
     "data": {
      "image/png": "[encoded data removed]",
      "text/plain": [
       "<PIL.Image.Image image mode=L size=28x28 at 0x1662BA908>"
      ]
     },
     "metadata": {},
     "output_type": "display_data"
    },
    {
     "name": "stdout",
     "output_type": "stream",
     "text": [
      "actual:5 \t\t predicted: 6\n"
     ]
    },
    {
     "data": {
      "image/png": "[encoded data removed]",
      "text/plain": [
       "<PIL.Image.Image image mode=L size=28x28 at 0x1662BA780>"
      ]
     },
     "metadata": {},
     "output_type": "display_data"
    },
    {
     "name": "stdout",
     "output_type": "stream",
     "text": [
      "actual:5 \t\t predicted: 6\n"
     ]
    },
    {
     "data": {
      "image/png": "[encoded data removed]",
      "text/plain": [
       "<PIL.Image.Image image mode=L size=28x28 at 0x1662BA7B8>"
      ]
     },
     "metadata": {},
     "output_type": "display_data"
    },
    {
     "name": "stdout",
     "output_type": "stream",
     "text": [
      "actual:8 \t\t predicted: 6\n"
     ]
    },
    {
     "data": {
      "image/png": "[encoded data removed]",
      "text/plain": [
       "<PIL.Image.Image image mode=L size=28x28 at 0x1662BA978>"
      ]
     },
     "metadata": {},
     "output_type": "display_data"
    },
    {
     "name": "stdout",
     "output_type": "stream",
     "text": [
      "actual:1 \t\t predicted: 2\n"
     ]
    },
    {
     "data": {
      "image/png": "[encoded data removed]",
      "text/plain": [
       "<PIL.Image.Image image mode=L size=28x28 at 0x1662BA828>"
      ]
     },
     "metadata": {},
     "output_type": "display_data"
    },
    {
     "name": "stdout",
     "output_type": "stream",
     "text": [
      "actual:3 \t\t predicted: 5\n"
     ]
    },
    {
     "data": {
      "image/png": "[encoded data removed]",
      "text/plain": [
       "<PIL.Image.Image image mode=L size=28x28 at 0x1662BA8D0>"
      ]
     },
     "metadata": {},
     "output_type": "display_data"
    },
    {
     "name": "stdout",
     "output_type": "stream",
     "text": [
      "actual:5 \t\t predicted: 3\n"
     ]
    }
   ],
   "source": [
    "# Print the ones the CNN misclassified\n",
    "misclassified_digit_indicies = []\n",
    "for idx in range(0, len(val_predictions)):\n",
    "    if np.argmax(y_val.values[idx]) != np.argmax(val_predictions[idx]):\n",
    "        misclassified_digit_indicies.append(idx)\n",
    "\n",
    "for idx in misclassified_digit_indicies:\n",
    "    display_mnist_digit(x_val[idx])\n",
    "    print('actual:{} \\t\\t predicted: {}'.format(np.argmax(y_val.values[idx]), np.argmax(val_predictions[idx])))"
   ]
  },
  {
   "cell_type": "markdown",
   "metadata": {},
   "source": [
    "While searching around about how to reduce overfitting in a convolutional neural network and how to squeeze out more performance, I stumbled upon this wordpress: https://shaoanlu.wordpress.com/2017/05/29/sgd-all-which-one-is-the-best-optimizer-dogs-vs-cats-toy-experiment/. According to this person's summary of a journal article, adam optimizers do not build good generalizable models; they overfit the training data. The recommended approach is to, instead, do a combination of adam and stochastic gradient descenet (SGD).\n",
    "\n",
    "Fortunately, Keras makes this rather simple according to: https://stackoverflow.com/questions/47626254/changing-optimizer-in-keras-during-training?rq=1. The model can be recompiled with a different optimizer without losing its weights that it already learned from training. The recompiled model can be fitted, and the new optimizer will be used, picking up where the previous compilation left off. I am interested to see if this will actually meaningfully improve performance, so let's try it."
   ]
  },
  {
   "cell_type": "code",
   "execution_count": 11,
   "metadata": {},
   "outputs": [
    {
     "name": "stdout",
     "output_type": "stream",
     "text": [
      "Epoch 1/3\n",
      "39900/39900 [==============================] - 490s 12ms/step - loss: 0.0019 - categorical_accuracy: 0.9984\n",
      "Epoch 2/3\n",
      "39900/39900 [==============================] - 483s 12ms/step - loss: 0.0017 - categorical_accuracy: 0.9985\n",
      "Epoch 3/3\n",
      "39900/39900 [==============================] - 480s 12ms/step - loss: 0.0017 - categorical_accuracy: 0.9983\n"
     ]
    },
    {
     "data": {
      "text/plain": [
       "<keras.callbacks.History at 0x159233ef0>"
      ]
     },
     "execution_count": 11,
     "metadata": {},
     "output_type": "execute_result"
    }
   ],
   "source": [
    "from keras.optimizers import SGD\n",
    "\n",
    "model_fine_tuned = model\n",
    "\n",
    "model_fine_tuned.compile(loss='binary_crossentropy',\n",
    "                         optimizer=SGD(lr=0.03, momentum=0.2),\n",
    "                         metrics=['categorical_accuracy'],)\n",
    "\n",
    "model_fine_tuned.fit(x_train, y_train, epochs=3, batch_size=256)"
   ]
  },
  {
   "cell_type": "code",
   "execution_count": 12,
   "metadata": {},
   "outputs": [],
   "source": [
    "model.save('cnn_3_layers_submission.h5')"
   ]
  },
  {
   "cell_type": "code",
   "execution_count": 13,
   "metadata": {},
   "outputs": [
    {
     "name": "stdout",
     "output_type": "stream",
     "text": [
      "CNN is 98.66667% accurate on validation data.\n"
     ]
    }
   ],
   "source": [
    "val_predictions = model_fine_tuned.predict(x_val)\n",
    "acc = categorical_accuracy_calc(y_val.values, val_predictions)\n",
    "print('CNN is {0:.5f}% accurate on validation data.'.format(acc*100))\n"
   ]
  },
  {
   "cell_type": "markdown",
   "metadata": {},
   "source": [
    "Wow! That's actually a meaningful improvement, at least for the Kaggle public leaderboards."
   ]
  },
  {
   "cell_type": "code",
   "execution_count": 15,
   "metadata": {},
   "outputs": [
    {
     "name": "stdout",
     "output_type": "stream",
     "text": [
      "writing to csv\n",
      "done!\n"
     ]
    }
   ],
   "source": [
    "test = pandas.read_csv('test.csv')\n",
    "\n",
    "result = pandas.DataFrame({'ImageId': [img_id for img_id in range(1, test.shape[0]+1)]})\n",
    "\n",
    "result['Label'] = model_fine_tuned.predict_classes(test.values.reshape( test.shape[0], 28, 28, 1) )\n",
    "\n",
    "print('writing to csv')\n",
    "# no label column in test, so can just reshape values\n",
    "result.to_csv('mnist_cnn_3_layers_25_dropout.csv', index=False, sep=',')\n",
    "print('done!')"
   ]
  },
  {
   "cell_type": "markdown",
   "metadata": {},
   "source": [
    "At this point, there are other improvements that could be made to the model. More hidden layers could be added (6 hidden convolution layers seems to be popular), the digits could be deskewed (de-slanted, really), and the image could be elastic-distored (shrinking or stretching the image at random points) (see https://en.wikipedia.org/wiki/MNIST_database#Performance). All of those things, however, are essentially just copy and pasting other peoples' solutions from research papers and blogs. Submitting solutions that use those things feels dishonest, so this is where I will leave off. \n",
    "\n",
    "The final model scored was **98.985%** accurate on the Kaggle leaderboard. That puts the model at 1056th place out of 2658 teams (**top 40%**). For reference, humans on average supposedly correctly identify 97.5% to 98% of digits, so this model exceeds that level of accuracy."
   ]
  }
 ],
 "metadata": {
  "kernelspec": {
   "display_name": "Python 3",
   "language": "python",
   "name": "python3"
  },
  "language_info": {
   "codemirror_mode": {
    "name": "ipython",
    "version": 3
   },
   "file_extension": ".py",
   "mimetype": "text/x-python",
   "name": "python",
   "nbconvert_exporter": "python",
   "pygments_lexer": "ipython3",
   "version": "3.6.5"
  }
 },
 "nbformat": 4,
 "nbformat_minor": 2
}
